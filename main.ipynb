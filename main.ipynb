{
 "cells": [
  {
   "cell_type": "code",
   "execution_count": 1,
   "id": "harmful-modeling",
   "metadata": {
    "ExecuteTime": {
     "end_time": "2021-04-11T23:58:09.855000Z",
     "start_time": "2021-04-11T23:58:07.031255Z"
    }
   },
   "outputs": [],
   "source": [
    "from dataclasses import dataclass, asdict\n",
    "import toml\n",
    "\n",
    "import pandas as pd\n",
    "import numpy as np\n",
    "\n",
    "import plotly.express as px\n",
    "from jupyter_dash import JupyterDash as Dash\n",
    "import dash\n",
    "import dash_core_components as dcc\n",
    "import dash_html_components as html\n",
    "from dash.dependencies import Input, Output, State, MATCH, ALL"
   ]
  },
  {
   "cell_type": "code",
   "execution_count": 2,
   "id": "impressed-david",
   "metadata": {
    "ExecuteTime": {
     "end_time": "2021-04-11T23:58:10.600668Z",
     "start_time": "2021-04-11T23:58:10.582676Z"
    }
   },
   "outputs": [],
   "source": [
    "from server.nav import create_nav"
   ]
  },
  {
   "cell_type": "code",
   "execution_count": 3,
   "id": "subject-positive",
   "metadata": {
    "ExecuteTime": {
     "end_time": "2021-04-11T23:58:13.120543Z",
     "start_time": "2021-04-11T23:58:12.774698Z"
    }
   },
   "outputs": [],
   "source": [
    "external_stylesheets = ['https://xinetzone.github.io/Font-Awesome/css/all.css']\n",
    "app = Dash(__name__, external_stylesheets=external_stylesheets)"
   ]
  },
  {
   "cell_type": "code",
   "execution_count": 4,
   "id": "novel-influence",
   "metadata": {
    "ExecuteTime": {
     "end_time": "2021-04-11T23:58:13.928182Z",
     "start_time": "2021-04-11T23:58:13.911191Z"
    }
   },
   "outputs": [],
   "source": [
    "div = html.Div([\n",
    "    html.Button('Button 1', id='btn-nclicks-1', n_clicks=0, className='w3-button'),\n",
    "    html.Button('Button 2', id='btn-nclicks-2', n_clicks=0, className='w3-button'),\n",
    "    html.Button('Button 3', id='btn-nclicks-3', n_clicks=0, className='w3-button'),\n",
    "    html.Div(id='container-button-timestamp'),\n",
    "    html.Div(id='run_start')\n",
    "])\n",
    "\n",
    "@app.callback(Output('container-button-timestamp', 'children'),\n",
    "              Input('btn-nclicks-1', 'n_clicks'),\n",
    "              Input('btn-nclicks-2', 'n_clicks'),\n",
    "              Input('btn-nclicks-3', 'n_clicks'))\n",
    "def displayClick(btn1, btn2, btn3):\n",
    "    changed_id = [p['prop_id'] for p in dash.callback_context.triggered][0]\n",
    "    if 'btn-nclicks-1' in changed_id:\n",
    "        msg = 'Button 1 was most recently clicked'\n",
    "    elif 'btn-nclicks-2' in changed_id:\n",
    "        msg = 'Button 2 was most recently clicked'\n",
    "    elif 'btn-nclicks-3' in changed_id:\n",
    "        msg = 'Button 3 was most recently clicked'\n",
    "    else:\n",
    "        msg = 'None of the buttons have been clicked yet'\n",
    "    return html.Div(msg)\n",
    "\n",
    "@app.callback(Output('run_start', 'children'),\n",
    "              Input('start', 'n_clicks'))\n",
    "def run(start):\n",
    "    changed_id = [p['prop_id'] for p in dash.callback_context.triggered][0]\n",
    "    if 'start' in changed_id:\n",
    "        msg = 'run'\n",
    "    elif 'btn-nclicks-2' in changed_id:\n",
    "        msg = 'Button 2 was most recently clicked'\n",
    "    elif 'btn-nclicks-3' in changed_id:\n",
    "        msg = 'Button 3 was most recently clicked'\n",
    "    else:\n",
    "        msg = 'None of the buttons have been clicked yet'\n",
    "    return html.Div(msg)"
   ]
  },
  {
   "cell_type": "code",
   "execution_count": 5,
   "id": "critical-gasoline",
   "metadata": {
    "ExecuteTime": {
     "end_time": "2021-04-11T23:58:17.649522Z",
     "start_time": "2021-04-11T23:58:17.630531Z"
    }
   },
   "outputs": [],
   "source": [
    "nav = create_nav()\n",
    "app.layout = html.Article([nav, html.Footer([div])], \n",
    "                          className='w3-card w3-pale-green w3-padding')"
   ]
  },
  {
   "cell_type": "code",
   "execution_count": 6,
   "id": "sound-death",
   "metadata": {
    "ExecuteTime": {
     "end_time": "2021-04-11T23:58:21.976103Z",
     "start_time": "2021-04-11T23:58:19.406738Z"
    },
    "scrolled": true
   },
   "outputs": [
    {
     "name": "stdout",
     "output_type": "stream",
     "text": [
      "Dash app running on http://0.0.0.0:7777/\n"
     ]
    }
   ],
   "source": [
    "app.run_server('external', host='0.0.0.0', port=7777, debug=True)"
   ]
  },
  {
   "cell_type": "code",
   "execution_count": null,
   "id": "conceptual-transition",
   "metadata": {},
   "outputs": [],
   "source": []
  }
 ],
 "metadata": {
  "kernelspec": {
   "display_name": "ui",
   "language": "python",
   "name": "ui"
  },
  "language_info": {
   "codemirror_mode": {
    "name": "ipython",
    "version": 3
   },
   "file_extension": ".py",
   "mimetype": "text/x-python",
   "name": "python",
   "nbconvert_exporter": "python",
   "pygments_lexer": "ipython3",
   "version": "3.9.2"
  },
  "toc": {
   "base_numbering": 1,
   "nav_menu": {},
   "number_sections": true,
   "sideBar": true,
   "skip_h1_title": false,
   "title_cell": "Table of Contents",
   "title_sidebar": "Contents",
   "toc_cell": false,
   "toc_position": {},
   "toc_section_display": true,
   "toc_window_display": false
  }
 },
 "nbformat": 4,
 "nbformat_minor": 5
}
