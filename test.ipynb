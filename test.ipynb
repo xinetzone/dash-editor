{
 "cells": [
  {
   "cell_type": "code",
   "execution_count": null,
   "id": "indoor-multimedia",
   "metadata": {
    "ExecuteTime": {
     "end_time": "2021-03-31T00:53:37.118193Z",
     "start_time": "2021-03-31T00:53:37.103201Z"
    }
   },
   "outputs": [],
   "source": [
    "import logging\n",
    "import threading\n",
    "import time\n",
    "from concurrent import futures"
   ]
  },
  {
   "cell_type": "code",
   "execution_count": null,
   "id": "increased-strap",
   "metadata": {
    "ExecuteTime": {
     "end_time": "2021-03-31T00:57:52.363311Z",
     "start_time": "2021-03-31T00:57:52.339322Z"
    }
   },
   "outputs": [],
   "source": [
    "import random\n",
    "\n",
    "SENTINEL = object()\n",
    "\n",
    "\n",
    "def producer(pipeline):\n",
    "    \"\"\"Pretend we're getting a message from the network.\"\"\"\n",
    "    for index in range(10):\n",
    "        message = random.randint(1, 101)\n",
    "        logging.info(\"Producer got message: %s\", message)\n",
    "        pipeline.set_message(message, \"Producer\")\n",
    "\n",
    "    # Send a sentinel message to tell consumer we're done\n",
    "    pipeline.set_message(SENTINEL, \"Producer\")\n",
    "\n",
    "\n",
    "def consumer(pipeline):\n",
    "    \"\"\"Pretend we're saving a number in the database.\"\"\"\n",
    "    message = 0\n",
    "    while message is not SENTINEL:\n",
    "        message = pipeline.get_message(\"Consumer\")\n",
    "        if message is not SENTINEL:\n",
    "            logging.info(\"Consumer storing message: %s\", message)\n",
    "\n",
    "\n",
    "class Pipeline:\n",
    "    \"\"\"\n",
    "    Class to allow a single element pipeline between producer and consumer.\n",
    "    \"\"\"\n",
    "\n",
    "    def __init__(self):\n",
    "        self.message = 0\n",
    "        self.producer_lock = threading.Lock()\n",
    "        self.consumer_lock = threading.Lock()\n",
    "        self.consumer_lock.acquire()\n",
    "\n",
    "    def get_message(self, name):\n",
    "        self.consumer_lock.acquire()\n",
    "        message = self.message\n",
    "        self.producer_lock.release()\n",
    "        return message\n",
    "\n",
    "    def set_message(self, message, name):\n",
    "        self.producer_lock.acquire()\n",
    "        self.message = message\n",
    "        self.consumer_lock.release()"
   ]
  },
  {
   "cell_type": "code",
   "execution_count": null,
   "id": "conditional-punishment",
   "metadata": {
    "ExecuteTime": {
     "end_time": "2021-03-31T00:58:03.472340Z",
     "start_time": "2021-03-31T00:58:03.436356Z"
    }
   },
   "outputs": [],
   "source": [
    "if __name__ == \"__main__\":\n",
    "    formats = \"%(asctime)s: %(message)s\"\n",
    "    logging.basicConfig(format=formats, level=logging.INFO,\n",
    "                        datefmt=\"%H:%M:%S\")\n",
    "    # logging.getLogger().setLevel(logging.DEBUG)\n",
    "\n",
    "    pipeline = Pipeline()\n",
    "    with futures.ThreadPoolExecutor(max_workers=2) as executor:\n",
    "        executor.submit(producer, pipeline)\n",
    "        executor.submit(consumer, pipeline)"
   ]
  },
  {
   "cell_type": "code",
   "execution_count": null,
   "id": "exempt-africa",
   "metadata": {
    "ExecuteTime": {
     "end_time": "2021-03-31T02:56:21.395270Z",
     "start_time": "2021-03-31T02:56:21.382277Z"
    }
   },
   "outputs": [],
   "source": [
    "import threading\n",
    "from concurrent import futures\n",
    "import time"
   ]
  },
  {
   "cell_type": "code",
   "execution_count": null,
   "id": "inside-evening",
   "metadata": {
    "ExecuteTime": {
     "end_time": "2021-03-31T02:57:24.694313Z",
     "start_time": "2021-03-31T02:57:09.895917Z"
    }
   },
   "outputs": [],
   "source": [
    "import urllib.request\n",
    "\n",
    "URLS = ['http://www.foxnews.com/',\n",
    "        'http://www.cnn.com/',\n",
    "        'http://europe.wsj.com/',\n",
    "        'http://www.bbc.co.uk/',\n",
    "        'http://some-made-up-domain.com/']\n",
    "\n",
    "# Retrieve a single page and report the URL and contents\n",
    "def load_url(url, timeout):\n",
    "    with urllib.request.urlopen(url, timeout=timeout) as conn:\n",
    "        return conn.read()\n",
    "\n",
    "# We can use a with statement to ensure threads are cleaned up promptly\n",
    "with futures.ThreadPoolExecutor() as executor:\n",
    "    # Start the load operations and mark each future with its URL\n",
    "    future_to_url = {executor.submit(load_url, url, 60): url for url in URLS}\n",
    "    for future in futures.as_completed(future_to_url):\n",
    "        url = future_to_url[future]\n",
    "        try:\n",
    "            data = future.result()\n",
    "        except Exception as exc:\n",
    "            print('%r generated an exception: %s' % (url, exc))\n",
    "        else:\n",
    "            print('%r page is %d bytes' % (url, len(data)))"
   ]
  },
  {
   "cell_type": "code",
   "execution_count": null,
   "id": "awful-repository",
   "metadata": {
    "ExecuteTime": {
     "end_time": "2021-03-31T06:16:31.687419Z",
     "start_time": "2021-03-31T06:16:28.910630Z"
    }
   },
   "outputs": [],
   "source": [
    "from d2l import torch as d2l"
   ]
  },
  {
   "cell_type": "code",
   "execution_count": null,
   "id": "strong-parallel",
   "metadata": {
    "ExecuteTime": {
     "end_time": "2021-03-31T06:16:38.499379Z",
     "start_time": "2021-03-31T06:16:38.383432Z"
    }
   },
   "outputs": [],
   "source": []
  },
  {
   "cell_type": "code",
   "execution_count": null,
   "id": "bound-freeware",
   "metadata": {
    "ExecuteTime": {
     "end_time": "2021-03-31T06:35:53.933938Z",
     "start_time": "2021-03-31T06:35:53.908949Z"
    }
   },
   "outputs": [],
   "source": [
    "d2l.evaluate_accuracy??"
   ]
  },
  {
   "cell_type": "code",
   "execution_count": null,
   "id": "sixth-helena",
   "metadata": {
    "ExecuteTime": {
     "end_time": "2021-03-31T06:28:02.369245Z",
     "start_time": "2021-03-31T06:28:02.356250Z"
    }
   },
   "outputs": [],
   "source": [
    "import torch"
   ]
  },
  {
   "cell_type": "code",
   "execution_count": null,
   "id": "united-workstation",
   "metadata": {
    "ExecuteTime": {
     "end_time": "2021-03-31T06:29:18.968877Z",
     "start_time": "2021-03-31T06:29:18.964878Z"
    }
   },
   "outputs": [],
   "source": [
    "a = torch.tensor([2])"
   ]
  },
  {
   "cell_type": "code",
   "execution_count": null,
   "id": "correct-public",
   "metadata": {
    "ExecuteTime": {
     "end_time": "2021-03-31T06:29:31.422320Z",
     "start_time": "2021-03-31T06:29:31.413323Z"
    }
   },
   "outputs": [],
   "source": [
    "a.type(torch.float)"
   ]
  },
  {
   "cell_type": "code",
   "execution_count": null,
   "id": "about-render",
   "metadata": {
    "ExecuteTime": {
     "end_time": "2021-03-31T06:52:07.814977Z",
     "start_time": "2021-03-31T06:52:07.802982Z"
    }
   },
   "outputs": [],
   "source": [
    "w = torch.empty(3, 5)"
   ]
  },
  {
   "cell_type": "code",
   "execution_count": null,
   "id": "official-sunglasses",
   "metadata": {
    "ExecuteTime": {
     "end_time": "2021-03-31T06:52:09.920037Z",
     "start_time": "2021-03-31T06:52:09.907044Z"
    }
   },
   "outputs": [],
   "source": [
    "w"
   ]
  },
  {
   "cell_type": "code",
   "execution_count": null,
   "id": "preliminary-recipient",
   "metadata": {
    "ExecuteTime": {
     "end_time": "2021-03-31T06:54:17.639604Z",
     "start_time": "2021-03-31T06:54:17.624611Z"
    }
   },
   "outputs": [],
   "source": [
    "torch.randn?"
   ]
  },
  {
   "cell_type": "code",
   "execution_count": null,
   "id": "matched-ownership",
   "metadata": {
    "ExecuteTime": {
     "end_time": "2021-03-31T07:04:31.095870Z",
     "start_time": "2021-03-31T07:04:31.080877Z"
    }
   },
   "outputs": [],
   "source": [
    "from torch.utils import data"
   ]
  },
  {
   "cell_type": "code",
   "execution_count": null,
   "id": "electric-service",
   "metadata": {
    "ExecuteTime": {
     "end_time": "2021-03-31T07:15:03.718850Z",
     "start_time": "2021-03-31T07:15:03.698859Z"
    }
   },
   "outputs": [],
   "source": [
    "d2l.astype??"
   ]
  },
  {
   "cell_type": "code",
   "execution_count": null,
   "id": "opening-newsletter",
   "metadata": {
    "ExecuteTime": {
     "end_time": "2021-03-31T07:43:26.592719Z",
     "start_time": "2021-03-31T07:43:26.586721Z"
    }
   },
   "outputs": [],
   "source": [
    "import torch\n",
    "from torch import nn\n",
    "from d2l import torch as d2l"
   ]
  },
  {
   "cell_type": "code",
   "execution_count": null,
   "id": "supported-equipment",
   "metadata": {
    "ExecuteTime": {
     "end_time": "2021-03-31T08:04:15.040528Z",
     "start_time": "2021-03-31T08:04:15.020538Z"
    }
   },
   "outputs": [],
   "source": [
    "net = nn.Sequential(nn.Flatten(), nn.Linear(784, 100), nn.Sigmoid(),\n",
    "                    nn.Linear(100, 10), nn.Sigmoid())\n",
    "\n",
    "def init_weights(m):\n",
    "    if type(m) == nn.Linear:\n",
    "        nn.init.zeros_(m.weight)\n",
    "        nn.init.zeros_(m.bias)\n",
    "\n",
    "net.apply(init_weights);\n",
    "net.to(ctx)"
   ]
  },
  {
   "cell_type": "code",
   "execution_count": null,
   "id": "fifth-orange",
   "metadata": {
    "ExecuteTime": {
     "end_time": "2021-03-31T08:02:18.631056Z",
     "start_time": "2021-03-31T08:02:18.618062Z"
    }
   },
   "outputs": [],
   "source": [
    "nn.init.zeros_?"
   ]
  },
  {
   "cell_type": "code",
   "execution_count": null,
   "id": "modified-stuart",
   "metadata": {
    "ExecuteTime": {
     "end_time": "2021-03-31T07:46:33.609323Z",
     "start_time": "2021-03-31T07:44:41.841384Z"
    },
    "scrolled": true
   },
   "outputs": [],
   "source": [
    "batch_size, lr, num_epochs = 256, 0.01, 10\n",
    "loss = nn.CrossEntropyLoss()\n",
    "trainer = torch.optim.SGD(net.parameters(), lr=lr)\n",
    "\n",
    "train_iter, test_iter = d2l.load_data_fashion_mnist(batch_size)\n",
    "d2l.train_ch3(net, train_iter, test_iter, loss, num_epochs, trainer)"
   ]
  },
  {
   "cell_type": "code",
   "execution_count": 1,
   "id": "annoying-vision",
   "metadata": {
    "ExecuteTime": {
     "end_time": "2021-03-31T08:38:44.703832Z",
     "start_time": "2021-03-31T08:38:41.789119Z"
    }
   },
   "outputs": [],
   "source": [
    "from d2l import torch as d2l"
   ]
  },
  {
   "cell_type": "code",
   "execution_count": 3,
   "id": "important-parking",
   "metadata": {
    "ExecuteTime": {
     "end_time": "2021-03-31T08:39:08.391371Z",
     "start_time": "2021-03-31T08:39:08.365382Z"
    }
   },
   "outputs": [],
   "source": [
    "d2l.train_epoch_ch3??"
   ]
  },
  {
   "cell_type": "code",
   "execution_count": null,
   "id": "conscious-concert",
   "metadata": {},
   "outputs": [],
   "source": [
    "tor"
   ]
  }
 ],
 "metadata": {
  "kernelspec": {
   "display_name": "torch",
   "language": "python",
   "name": "torch"
  },
  "language_info": {
   "codemirror_mode": {
    "name": "ipython",
    "version": 3
   },
   "file_extension": ".py",
   "mimetype": "text/x-python",
   "name": "python",
   "nbconvert_exporter": "python",
   "pygments_lexer": "ipython3",
   "version": "3.8.0"
  },
  "toc": {
   "base_numbering": 1,
   "nav_menu": {},
   "number_sections": true,
   "sideBar": true,
   "skip_h1_title": false,
   "title_cell": "Table of Contents",
   "title_sidebar": "Contents",
   "toc_cell": false,
   "toc_position": {},
   "toc_section_display": true,
   "toc_window_display": false
  }
 },
 "nbformat": 4,
 "nbformat_minor": 5
}
