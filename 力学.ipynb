{
 "cells": [
  {
   "cell_type": "code",
   "execution_count": 1,
   "id": "scheduled-joining",
   "metadata": {
    "ExecuteTime": {
     "end_time": "2021-03-26T04:26:21.516761Z",
     "start_time": "2021-03-26T04:26:20.364276Z"
    }
   },
   "outputs": [],
   "source": [
    "from sympy import symbols\n",
    "from sympy.physics.mechanics import *"
   ]
  },
  {
   "cell_type": "code",
   "execution_count": 2,
   "id": "circular-nigeria",
   "metadata": {
    "ExecuteTime": {
     "end_time": "2021-03-26T04:26:29.834050Z",
     "start_time": "2021-03-26T04:26:29.813059Z"
    }
   },
   "outputs": [
    {
     "name": "stdout",
     "output_type": "stream",
     "text": [
      "Help on class ReferenceFrame in module sympy.physics.vector.frame:\n",
      "\n",
      "class ReferenceFrame(builtins.object)\n",
      " |  ReferenceFrame(name, indices=None, latexs=None, variables=None)\n",
      " |  \n",
      " |  A reference frame in classical mechanics.\n",
      " |  \n",
      " |  ReferenceFrame is a class used to represent a reference frame in classical\n",
      " |  mechanics. It has a standard basis of three unit vectors in the frame's\n",
      " |  x, y, and z directions.\n",
      " |  \n",
      " |  It also can have a rotation relative to a parent frame; this rotation is\n",
      " |  defined by a direction cosine matrix relating this frame's basis vectors to\n",
      " |  the parent frame's basis vectors.  It can also have an angular velocity\n",
      " |  vector, defined in another frame.\n",
      " |  \n",
      " |  Methods defined here:\n",
      " |  \n",
      " |  __getitem__(self, ind)\n",
      " |      Returns basis vector for the provided index, if the index is a string.\n",
      " |      \n",
      " |      If the index is a number, returns the coordinate variable correspon-\n",
      " |      -ding to that index.\n",
      " |  \n",
      " |  __init__(self, name, indices=None, latexs=None, variables=None)\n",
      " |      ReferenceFrame initialization method.\n",
      " |      \n",
      " |      A ReferenceFrame has a set of orthonormal basis vectors, along with\n",
      " |      orientations relative to other ReferenceFrames and angular velocities\n",
      " |      relative to other ReferenceFrames.\n",
      " |      \n",
      " |      Parameters\n",
      " |      ==========\n",
      " |      \n",
      " |      indices : tuple of str\n",
      " |          Enables the reference frame's basis unit vectors to be accessed by\n",
      " |          Python's square bracket indexing notation using the provided three\n",
      " |          indice strings and alters the printing of the unit vectors to\n",
      " |          reflect this choice.\n",
      " |      latexs : tuple of str\n",
      " |          Alters the LaTeX printing of the reference frame's basis unit\n",
      " |          vectors to the provided three valid LaTeX strings.\n",
      " |      \n",
      " |      Examples\n",
      " |      ========\n",
      " |      \n",
      " |      >>> from sympy.physics.vector import ReferenceFrame, vlatex\n",
      " |      >>> N = ReferenceFrame('N')\n",
      " |      >>> N.x\n",
      " |      N.x\n",
      " |      >>> O = ReferenceFrame('O', indices=('1', '2', '3'))\n",
      " |      >>> O.x\n",
      " |      O['1']\n",
      " |      >>> O['1']\n",
      " |      O['1']\n",
      " |      >>> P = ReferenceFrame('P', latexs=('A1', 'A2', 'A3'))\n",
      " |      >>> vlatex(P.x)\n",
      " |      'A1'\n",
      " |      \n",
      " |      symbols() can be used to create multiple Reference Frames in one step, for example:\n",
      " |      \n",
      " |      >>> from sympy.physics.vector import ReferenceFrame\n",
      " |      >>> from sympy import symbols\n",
      " |      >>> A, B, C = symbols('A B C', cls=ReferenceFrame)\n",
      " |      >>> D, E = symbols('D E', cls=ReferenceFrame, indices=('1', '2', '3'))\n",
      " |      >>> A[0]\n",
      " |      A_x\n",
      " |      >>> D.x\n",
      " |      D['1']\n",
      " |      >>> E.y\n",
      " |      E['2']\n",
      " |      >>> type(A) == type(D)\n",
      " |      True\n",
      " |  \n",
      " |  __iter__(self)\n",
      " |  \n",
      " |  __repr__ = __str__(self)\n",
      " |  \n",
      " |  __str__(self)\n",
      " |      Returns the name of the frame.\n",
      " |  \n",
      " |  ang_acc_in(self, otherframe)\n",
      " |      Returns the angular acceleration Vector of the ReferenceFrame.\n",
      " |      \n",
      " |      Effectively returns the Vector:\n",
      " |      ^N alpha ^B\n",
      " |      which represent the angular acceleration of B in N, where B is self, and\n",
      " |      N is otherframe.\n",
      " |      \n",
      " |      Parameters\n",
      " |      ==========\n",
      " |      \n",
      " |      otherframe : ReferenceFrame\n",
      " |          The ReferenceFrame which the angular acceleration is returned in.\n",
      " |      \n",
      " |      Examples\n",
      " |      ========\n",
      " |      \n",
      " |      >>> from sympy.physics.vector import ReferenceFrame\n",
      " |      >>> N = ReferenceFrame('N')\n",
      " |      >>> A = ReferenceFrame('A')\n",
      " |      >>> V = 10 * N.x\n",
      " |      >>> A.set_ang_acc(N, V)\n",
      " |      >>> A.ang_acc_in(N)\n",
      " |      10*N.x\n",
      " |  \n",
      " |  ang_vel_in(self, otherframe)\n",
      " |      Returns the angular velocity Vector of the ReferenceFrame.\n",
      " |      \n",
      " |      Effectively returns the Vector:\n",
      " |      ^N omega ^B\n",
      " |      which represent the angular velocity of B in N, where B is self, and\n",
      " |      N is otherframe.\n",
      " |      \n",
      " |      Parameters\n",
      " |      ==========\n",
      " |      \n",
      " |      otherframe : ReferenceFrame\n",
      " |          The ReferenceFrame which the angular velocity is returned in.\n",
      " |      \n",
      " |      Examples\n",
      " |      ========\n",
      " |      \n",
      " |      >>> from sympy.physics.vector import ReferenceFrame\n",
      " |      >>> N = ReferenceFrame('N')\n",
      " |      >>> A = ReferenceFrame('A')\n",
      " |      >>> V = 10 * N.x\n",
      " |      >>> A.set_ang_vel(N, V)\n",
      " |      >>> A.ang_vel_in(N)\n",
      " |      10*N.x\n",
      " |  \n",
      " |  dcm(self, otherframe)\n",
      " |      Returns the direction cosine matrix relative to the provided\n",
      " |      reference frame.\n",
      " |      \n",
      " |      The returned matrix can be used to express the orthogonal unit vectors\n",
      " |      of this frame in terms of the orthogonal unit vectors of\n",
      " |      ``otherframe``.\n",
      " |      \n",
      " |      Parameters\n",
      " |      ==========\n",
      " |      \n",
      " |      otherframe : ReferenceFrame\n",
      " |          The reference frame which the direction cosine matrix of this frame\n",
      " |          is formed relative to.\n",
      " |      \n",
      " |      Examples\n",
      " |      ========\n",
      " |      \n",
      " |      The following example rotates the reference frame A relative to N by a\n",
      " |      simple rotation and then calculates the direction cosine matrix of N\n",
      " |      relative to A.\n",
      " |      \n",
      " |      >>> from sympy import symbols, sin, cos\n",
      " |      >>> from sympy.physics.vector import ReferenceFrame\n",
      " |      >>> q1 = symbols('q1')\n",
      " |      >>> N = ReferenceFrame('N')\n",
      " |      >>> A = N.orientnew('A', 'Axis', (q1, N.x))\n",
      " |      >>> N.dcm(A)\n",
      " |      Matrix([\n",
      " |      [1,       0,        0],\n",
      " |      [0, cos(q1), -sin(q1)],\n",
      " |      [0, sin(q1),  cos(q1)]])\n",
      " |      \n",
      " |      The second row of the above direction cosine matrix represents the\n",
      " |      ``N.y`` unit vector in N expressed in A. Like so:\n",
      " |      \n",
      " |      >>> Ny = 0*A.x + cos(q1)*A.y - sin(q1)*A.z\n",
      " |      \n",
      " |      Thus, expressing ``N.y`` in A should return the same result:\n",
      " |      \n",
      " |      >>> N.y.express(A)\n",
      " |      cos(q1)*A.y - sin(q1)*A.z\n",
      " |      \n",
      " |      Notes\n",
      " |      =====\n",
      " |      \n",
      " |      It is import to know what form of the direction cosine matrix is\n",
      " |      returned. If ``B.dcm(A)`` is called, it means the \"direction cosine\n",
      " |      matrix of B relative to A\". This is the matrix :math:`{}^A\\mathbf{R}^B`\n",
      " |      shown in the following relationship:\n",
      " |      \n",
      " |      .. math::\n",
      " |      \n",
      " |         \\begin{bmatrix}\n",
      " |           \\hat{\\mathbf{b}}_1 \\\\\n",
      " |           \\hat{\\mathbf{b}}_2 \\\\\n",
      " |           \\hat{\\mathbf{b}}_3\n",
      " |         \\end{bmatrix}\n",
      " |         =\n",
      " |         {}^A\\mathbf{R}^B\n",
      " |         \\begin{bmatrix}\n",
      " |           \\hat{\\mathbf{a}}_1 \\\\\n",
      " |           \\hat{\\mathbf{a}}_2 \\\\\n",
      " |           \\hat{\\mathbf{a}}_3\n",
      " |         \\end{bmatrix}.\n",
      " |      \n",
      " |      :math:`^{}A\\mathbf{R}^B` is the matrix that expresses the B unit\n",
      " |      vectors in terms of the A unit vectors.\n",
      " |  \n",
      " |  orient(self, parent, rot_type, amounts, rot_order='')\n",
      " |      Sets the orientation of this reference frame relative to another\n",
      " |      (parent) reference frame.\n",
      " |      \n",
      " |      Parameters\n",
      " |      ==========\n",
      " |      \n",
      " |      parent : ReferenceFrame\n",
      " |          Reference frame that this reference frame will be rotated relative\n",
      " |          to.\n",
      " |      rot_type : str\n",
      " |          The method used to generate the direction cosine matrix. Supported\n",
      " |          methods are:\n",
      " |      \n",
      " |          - ``'Axis'``: simple rotations about a single common axis\n",
      " |          - ``'DCM'``: for setting the direction cosine matrix directly\n",
      " |          - ``'Body'``: three successive rotations about new intermediate\n",
      " |            axes, also called \"Euler and Tait-Bryan angles\"\n",
      " |          - ``'Space'``: three successive rotations about the parent\n",
      " |            frames' unit vectors\n",
      " |          - ``'Quaternion'``: rotations defined by four parameters which\n",
      " |            result in a singularity free direction cosine matrix\n",
      " |      \n",
      " |      amounts :\n",
      " |          Expressions defining the rotation angles or direction cosine\n",
      " |          matrix. These must match the ``rot_type``. See examples below for\n",
      " |          details. The input types are:\n",
      " |      \n",
      " |          - ``'Axis'``: 2-tuple (expr/sym/func, Vector)\n",
      " |          - ``'DCM'``: Matrix, shape(3,3)\n",
      " |          - ``'Body'``: 3-tuple of expressions, symbols, or functions\n",
      " |          - ``'Space'``: 3-tuple of expressions, symbols, or functions\n",
      " |          - ``'Quaternion'``: 4-tuple of expressions, symbols, or\n",
      " |            functions\n",
      " |      \n",
      " |      rot_order : str or int, optional\n",
      " |          If applicable, the order of the successive of rotations. The string\n",
      " |          ``'123'`` and integer ``123`` are equivalent, for example. Required\n",
      " |          for ``'Body'`` and ``'Space'``.\n",
      " |      \n",
      " |      Examples\n",
      " |      ========\n",
      " |      \n",
      " |      Setup variables for the examples:\n",
      " |      \n",
      " |      >>> from sympy import symbols\n",
      " |      >>> from sympy.physics.vector import ReferenceFrame\n",
      " |      >>> q0, q1, q2, q3 = symbols('q0 q1 q2 q3')\n",
      " |      >>> N = ReferenceFrame('N')\n",
      " |      >>> B = ReferenceFrame('B')\n",
      " |      >>> B1 = ReferenceFrame('B')\n",
      " |      >>> B2 = ReferenceFrame('B2')\n",
      " |      \n",
      " |      Axis\n",
      " |      ----\n",
      " |      \n",
      " |      ``rot_type='Axis'`` creates a direction cosine matrix defined by a\n",
      " |      simple rotation about a single axis fixed in both reference frames.\n",
      " |      This is a rotation about an arbitrary, non-time-varying\n",
      " |      axis by some angle. The axis is supplied as a Vector. This is how\n",
      " |      simple rotations are defined.\n",
      " |      \n",
      " |      >>> B.orient(N, 'Axis', (q1, N.x))\n",
      " |      \n",
      " |      The ``orient()`` method generates a direction cosine matrix and its\n",
      " |      transpose which defines the orientation of B relative to N and vice\n",
      " |      versa. Once orient is called, ``dcm()`` outputs the appropriate\n",
      " |      direction cosine matrix.\n",
      " |      \n",
      " |      >>> B.dcm(N)\n",
      " |      Matrix([\n",
      " |      [1,       0,      0],\n",
      " |      [0,  cos(q1), sin(q1)],\n",
      " |      [0, -sin(q1), cos(q1)]])\n",
      " |      \n",
      " |      The following two lines show how the sense of the rotation can be\n",
      " |      defined. Both lines produce the same result.\n",
      " |      \n",
      " |      >>> B.orient(N, 'Axis', (q1, -N.x))\n",
      " |      >>> B.orient(N, 'Axis', (-q1, N.x))\n",
      " |      \n",
      " |      The axis does not have to be defined by a unit vector, it can be any\n",
      " |      vector in the parent frame.\n",
      " |      \n",
      " |      >>> B.orient(N, 'Axis', (q1, N.x + 2 * N.y))\n",
      " |      \n",
      " |      DCM\n",
      " |      ---\n",
      " |      \n",
      " |      The direction cosine matrix can be set directly. The orientation of a\n",
      " |      frame A can be set to be the same as the frame B above like so:\n",
      " |      \n",
      " |      >>> B.orient(N, 'Axis', (q1, N.x))\n",
      " |      >>> A = ReferenceFrame('A')\n",
      " |      >>> A.orient(N, 'DCM', N.dcm(B))\n",
      " |      >>> A.dcm(N)\n",
      " |      Matrix([\n",
      " |      [1,       0,      0],\n",
      " |      [0,  cos(q1), sin(q1)],\n",
      " |      [0, -sin(q1), cos(q1)]])\n",
      " |      \n",
      " |      **Note carefully that** ``N.dcm(B)`` **was passed into** ``orient()``\n",
      " |      **for** ``A.dcm(N)`` **to match** ``B.dcm(N)``.\n",
      " |      \n",
      " |      Body\n",
      " |      ----\n",
      " |      \n",
      " |      ``rot_type='Body'`` rotates this reference frame relative to the\n",
      " |      provided reference frame by rotating through three successive simple\n",
      " |      rotations.  Each subsequent axis of rotation is about the \"body fixed\"\n",
      " |      unit vectors of the new intermediate reference frame. This type of\n",
      " |      rotation is also referred to rotating through the `Euler and Tait-Bryan\n",
      " |      Angles <https://en.wikipedia.org/wiki/Euler_angles>`_.\n",
      " |      \n",
      " |      For example, the classic Euler Angle rotation can be done by:\n",
      " |      \n",
      " |      >>> B.orient(N, 'Body', (q1, q2, q3), 'XYX')\n",
      " |      >>> B.dcm(N)\n",
      " |      Matrix([\n",
      " |      [        cos(q2),                            sin(q1)*sin(q2),                           -sin(q2)*cos(q1)],\n",
      " |      [sin(q2)*sin(q3), -sin(q1)*sin(q3)*cos(q2) + cos(q1)*cos(q3),  sin(q1)*cos(q3) + sin(q3)*cos(q1)*cos(q2)],\n",
      " |      [sin(q2)*cos(q3), -sin(q1)*cos(q2)*cos(q3) - sin(q3)*cos(q1), -sin(q1)*sin(q3) + cos(q1)*cos(q2)*cos(q3)]])\n",
      " |      \n",
      " |      This rotates B relative to N through ``q1`` about ``N.x``, then rotates\n",
      " |      B again through q2 about B.y, and finally through q3 about B.x. It is\n",
      " |      equivalent to:\n",
      " |      \n",
      " |      >>> B1.orient(N, 'Axis', (q1, N.x))\n",
      " |      >>> B2.orient(B1, 'Axis', (q2, B1.y))\n",
      " |      >>> B.orient(B2, 'Axis', (q3, B2.x))\n",
      " |      >>> B.dcm(N)\n",
      " |      Matrix([\n",
      " |      [        cos(q2),                            sin(q1)*sin(q2),                           -sin(q2)*cos(q1)],\n",
      " |      [sin(q2)*sin(q3), -sin(q1)*sin(q3)*cos(q2) + cos(q1)*cos(q3),  sin(q1)*cos(q3) + sin(q3)*cos(q1)*cos(q2)],\n",
      " |      [sin(q2)*cos(q3), -sin(q1)*cos(q2)*cos(q3) - sin(q3)*cos(q1), -sin(q1)*sin(q3) + cos(q1)*cos(q2)*cos(q3)]])\n",
      " |      \n",
      " |      Acceptable rotation orders are of length 3, expressed in as a string\n",
      " |      ``'XYZ'`` or ``'123'`` or integer ``123``. Rotations about an axis\n",
      " |      twice in a row are prohibited.\n",
      " |      \n",
      " |      >>> B.orient(N, 'Body', (q1, q2, 0), 'ZXZ')\n",
      " |      >>> B.orient(N, 'Body', (q1, q2, 0), '121')\n",
      " |      >>> B.orient(N, 'Body', (q1, q2, q3), 123)\n",
      " |      \n",
      " |      Space\n",
      " |      -----\n",
      " |      \n",
      " |      ``rot_type='Space'`` also rotates the reference frame in three\n",
      " |      successive simple rotations but the axes of rotation are the\n",
      " |      \"Space-fixed\" axes. For example:\n",
      " |      \n",
      " |      >>> B.orient(N, 'Space', (q1, q2, q3), '312')\n",
      " |      >>> B.dcm(N)\n",
      " |      Matrix([\n",
      " |      [ sin(q1)*sin(q2)*sin(q3) + cos(q1)*cos(q3), sin(q1)*cos(q2), sin(q1)*sin(q2)*cos(q3) - sin(q3)*cos(q1)],\n",
      " |      [-sin(q1)*cos(q3) + sin(q2)*sin(q3)*cos(q1), cos(q1)*cos(q2), sin(q1)*sin(q3) + sin(q2)*cos(q1)*cos(q3)],\n",
      " |      [                           sin(q3)*cos(q2),        -sin(q2),                           cos(q2)*cos(q3)]])\n",
      " |      \n",
      " |      is equivalent to:\n",
      " |      \n",
      " |      >>> B1.orient(N, 'Axis', (q1, N.z))\n",
      " |      >>> B2.orient(B1, 'Axis', (q2, N.x))\n",
      " |      >>> B.orient(B2, 'Axis', (q3, N.y))\n",
      " |      >>> B.dcm(N).simplify()  # doctest: +SKIP\n",
      " |      Matrix([\n",
      " |      [ sin(q1)*sin(q2)*sin(q3) + cos(q1)*cos(q3), sin(q1)*cos(q2), sin(q1)*sin(q2)*cos(q3) - sin(q3)*cos(q1)],\n",
      " |      [-sin(q1)*cos(q3) + sin(q2)*sin(q3)*cos(q1), cos(q1)*cos(q2), sin(q1)*sin(q3) + sin(q2)*cos(q1)*cos(q3)],\n",
      " |      [                           sin(q3)*cos(q2),        -sin(q2),                           cos(q2)*cos(q3)]])\n",
      " |      \n",
      " |      It is worth noting that space-fixed and body-fixed rotations are\n",
      " |      related by the order of the rotations, i.e. the reverse order of body\n",
      " |      fixed will give space fixed and vice versa.\n",
      " |      \n",
      " |      >>> B.orient(N, 'Space', (q1, q2, q3), '231')\n",
      " |      >>> B.dcm(N)\n",
      " |      Matrix([\n",
      " |      [cos(q1)*cos(q2), sin(q1)*sin(q3) + sin(q2)*cos(q1)*cos(q3), -sin(q1)*cos(q3) + sin(q2)*sin(q3)*cos(q1)],\n",
      " |      [       -sin(q2),                           cos(q2)*cos(q3),                            sin(q3)*cos(q2)],\n",
      " |      [sin(q1)*cos(q2), sin(q1)*sin(q2)*cos(q3) - sin(q3)*cos(q1),  sin(q1)*sin(q2)*sin(q3) + cos(q1)*cos(q3)]])\n",
      " |      \n",
      " |      >>> B.orient(N, 'Body', (q3, q2, q1), '132')\n",
      " |      >>> B.dcm(N)\n",
      " |      Matrix([\n",
      " |      [cos(q1)*cos(q2), sin(q1)*sin(q3) + sin(q2)*cos(q1)*cos(q3), -sin(q1)*cos(q3) + sin(q2)*sin(q3)*cos(q1)],\n",
      " |      [       -sin(q2),                           cos(q2)*cos(q3),                            sin(q3)*cos(q2)],\n",
      " |      [sin(q1)*cos(q2), sin(q1)*sin(q2)*cos(q3) - sin(q3)*cos(q1),  sin(q1)*sin(q2)*sin(q3) + cos(q1)*cos(q3)]])\n",
      " |      \n",
      " |      Quaternion\n",
      " |      ----------\n",
      " |      \n",
      " |      ``rot_type='Quaternion'`` orients the reference frame using\n",
      " |      quaternions. Quaternion rotation is defined as a finite rotation about\n",
      " |      lambda, a unit vector, by an amount theta. This orientation is\n",
      " |      described by four parameters:\n",
      " |      \n",
      " |      - ``q0 = cos(theta/2)``\n",
      " |      - ``q1 = lambda_x sin(theta/2)``\n",
      " |      - ``q2 = lambda_y sin(theta/2)``\n",
      " |      - ``q3 = lambda_z sin(theta/2)``\n",
      " |      \n",
      " |      This type does not need a ``rot_order``.\n",
      " |      \n",
      " |      >>> B.orient(N, 'Quaternion', (q0, q1, q2, q3))\n",
      " |      >>> B.dcm(N)\n",
      " |      Matrix([\n",
      " |      [q0**2 + q1**2 - q2**2 - q3**2,             2*q0*q3 + 2*q1*q2,            -2*q0*q2 + 2*q1*q3],\n",
      " |      [           -2*q0*q3 + 2*q1*q2, q0**2 - q1**2 + q2**2 - q3**2,             2*q0*q1 + 2*q2*q3],\n",
      " |      [            2*q0*q2 + 2*q1*q3,            -2*q0*q1 + 2*q2*q3, q0**2 - q1**2 - q2**2 + q3**2]])\n",
      " |  \n",
      " |  orientnew(self, newname, rot_type, amounts, rot_order='', variables=None, indices=None, latexs=None)\n",
      " |      Returns a new reference frame oriented with respect to this\n",
      " |      reference frame.\n",
      " |      \n",
      " |      See ``ReferenceFrame.orient()`` for detailed examples of how to orient\n",
      " |      reference frames.\n",
      " |      \n",
      " |      Parameters\n",
      " |      ==========\n",
      " |      \n",
      " |      newname : str\n",
      " |          Name for the new reference frame.\n",
      " |      rot_type : str\n",
      " |          The method used to generate the direction cosine matrix. Supported\n",
      " |          methods are:\n",
      " |      \n",
      " |          - ``'Axis'``: simple rotations about a single common axis\n",
      " |          - ``'DCM'``: for setting the direction cosine matrix directly\n",
      " |          - ``'Body'``: three successive rotations about new intermediate\n",
      " |            axes, also called \"Euler and Tait-Bryan angles\"\n",
      " |          - ``'Space'``: three successive rotations about the parent\n",
      " |            frames' unit vectors\n",
      " |          - ``'Quaternion'``: rotations defined by four parameters which\n",
      " |            result in a singularity free direction cosine matrix\n",
      " |      \n",
      " |      amounts :\n",
      " |          Expressions defining the rotation angles or direction cosine\n",
      " |          matrix. These must match the ``rot_type``. See examples below for\n",
      " |          details. The input types are:\n",
      " |      \n",
      " |          - ``'Axis'``: 2-tuple (expr/sym/func, Vector)\n",
      " |          - ``'DCM'``: Matrix, shape(3,3)\n",
      " |          - ``'Body'``: 3-tuple of expressions, symbols, or functions\n",
      " |          - ``'Space'``: 3-tuple of expressions, symbols, or functions\n",
      " |          - ``'Quaternion'``: 4-tuple of expressions, symbols, or\n",
      " |            functions\n",
      " |      \n",
      " |      rot_order : str or int, optional\n",
      " |          If applicable, the order of the successive of rotations. The string\n",
      " |          ``'123'`` and integer ``123`` are equivalent, for example. Required\n",
      " |          for ``'Body'`` and ``'Space'``.\n",
      " |      indices : tuple of str\n",
      " |          Enables the reference frame's basis unit vectors to be accessed by\n",
      " |          Python's square bracket indexing notation using the provided three\n",
      " |          indice strings and alters the printing of the unit vectors to\n",
      " |          reflect this choice.\n",
      " |      latexs : tuple of str\n",
      " |          Alters the LaTeX printing of the reference frame's basis unit\n",
      " |          vectors to the provided three valid LaTeX strings.\n",
      " |      \n",
      " |      Examples\n",
      " |      ========\n",
      " |      \n",
      " |      >>> from sympy import symbols\n",
      " |      >>> from sympy.physics.vector import ReferenceFrame, vlatex\n",
      " |      >>> q0, q1, q2, q3 = symbols('q0 q1 q2 q3')\n",
      " |      >>> N = ReferenceFrame('N')\n",
      " |      \n",
      " |      Create a new reference frame A rotated relative to N through a simple\n",
      " |      rotation.\n",
      " |      \n",
      " |      >>> A = N.orientnew('A', 'Axis', (q0, N.x))\n",
      " |      \n",
      " |      Create a new reference frame B rotated relative to N through body-fixed\n",
      " |      rotations.\n",
      " |      \n",
      " |      >>> B = N.orientnew('B', 'Body', (q1, q2, q3), '123')\n",
      " |      \n",
      " |      Create a new reference frame C rotated relative to N through a simple\n",
      " |      rotation with unique indices and LaTeX printing.\n",
      " |      \n",
      " |      >>> C = N.orientnew('C', 'Axis', (q0, N.x), indices=('1', '2', '3'),\n",
      " |      ... latexs=(r'\\hat{\\mathbf{c}}_1',r'\\hat{\\mathbf{c}}_2',\n",
      " |      ... r'\\hat{\\mathbf{c}}_3'))\n",
      " |      >>> C['1']\n",
      " |      C['1']\n",
      " |      >>> print(vlatex(C['1']))\n",
      " |      \\hat{\\mathbf{c}}_1\n",
      " |  \n",
      " |  partial_velocity(self, frame, *gen_speeds)\n",
      " |      Returns the partial angular velocities of this frame in the given\n",
      " |      frame with respect to one or more provided generalized speeds.\n",
      " |      \n",
      " |      Parameters\n",
      " |      ==========\n",
      " |      frame : ReferenceFrame\n",
      " |          The frame with which the angular velocity is defined in.\n",
      " |      gen_speeds : functions of time\n",
      " |          The generalized speeds.\n",
      " |      \n",
      " |      Returns\n",
      " |      =======\n",
      " |      partial_velocities : tuple of Vector\n",
      " |          The partial angular velocity vectors corresponding to the provided\n",
      " |          generalized speeds.\n",
      " |      \n",
      " |      Examples\n",
      " |      ========\n",
      " |      \n",
      " |      >>> from sympy.physics.vector import ReferenceFrame, dynamicsymbols\n",
      " |      >>> N = ReferenceFrame('N')\n",
      " |      >>> A = ReferenceFrame('A')\n",
      " |      >>> u1, u2 = dynamicsymbols('u1, u2')\n",
      " |      >>> A.set_ang_vel(N, u1 * A.x + u2 * N.y)\n",
      " |      >>> A.partial_velocity(N, u1)\n",
      " |      A.x\n",
      " |      >>> A.partial_velocity(N, u1, u2)\n",
      " |      (A.x, N.y)\n",
      " |  \n",
      " |  set_ang_acc(self, otherframe, value)\n",
      " |      Define the angular acceleration Vector in a ReferenceFrame.\n",
      " |      \n",
      " |      Defines the angular acceleration of this ReferenceFrame, in another.\n",
      " |      Angular acceleration can be defined with respect to multiple different\n",
      " |      ReferenceFrames. Care must be taken to not create loops which are\n",
      " |      inconsistent.\n",
      " |      \n",
      " |      Parameters\n",
      " |      ==========\n",
      " |      \n",
      " |      otherframe : ReferenceFrame\n",
      " |          A ReferenceFrame to define the angular acceleration in\n",
      " |      value : Vector\n",
      " |          The Vector representing angular acceleration\n",
      " |      \n",
      " |      Examples\n",
      " |      ========\n",
      " |      \n",
      " |      >>> from sympy.physics.vector import ReferenceFrame\n",
      " |      >>> N = ReferenceFrame('N')\n",
      " |      >>> A = ReferenceFrame('A')\n",
      " |      >>> V = 10 * N.x\n",
      " |      >>> A.set_ang_acc(N, V)\n",
      " |      >>> A.ang_acc_in(N)\n",
      " |      10*N.x\n",
      " |  \n",
      " |  set_ang_vel(self, otherframe, value)\n",
      " |      Define the angular velocity vector in a ReferenceFrame.\n",
      " |      \n",
      " |      Defines the angular velocity of this ReferenceFrame, in another.\n",
      " |      Angular velocity can be defined with respect to multiple different\n",
      " |      ReferenceFrames. Care must be taken to not create loops which are\n",
      " |      inconsistent.\n",
      " |      \n",
      " |      Parameters\n",
      " |      ==========\n",
      " |      \n",
      " |      otherframe : ReferenceFrame\n",
      " |          A ReferenceFrame to define the angular velocity in\n",
      " |      value : Vector\n",
      " |          The Vector representing angular velocity\n",
      " |      \n",
      " |      Examples\n",
      " |      ========\n",
      " |      \n",
      " |      >>> from sympy.physics.vector import ReferenceFrame\n",
      " |      >>> N = ReferenceFrame('N')\n",
      " |      >>> A = ReferenceFrame('A')\n",
      " |      >>> V = 10 * N.x\n",
      " |      >>> A.set_ang_vel(N, V)\n",
      " |      >>> A.ang_vel_in(N)\n",
      " |      10*N.x\n",
      " |  \n",
      " |  variable_map(self, otherframe)\n",
      " |      Returns a dictionary which expresses the coordinate variables\n",
      " |      of this frame in terms of the variables of otherframe.\n",
      " |      \n",
      " |      If Vector.simp is True, returns a simplified version of the mapped\n",
      " |      values. Else, returns them without simplification.\n",
      " |      \n",
      " |      Simplification of the expressions may take time.\n",
      " |      \n",
      " |      Parameters\n",
      " |      ==========\n",
      " |      \n",
      " |      otherframe : ReferenceFrame\n",
      " |          The other frame to map the variables to\n",
      " |      \n",
      " |      Examples\n",
      " |      ========\n",
      " |      \n",
      " |      >>> from sympy.physics.vector import ReferenceFrame, dynamicsymbols\n",
      " |      >>> A = ReferenceFrame('A')\n",
      " |      >>> q = dynamicsymbols('q')\n",
      " |      >>> B = A.orientnew('B', 'Axis', [q, A.z])\n",
      " |      >>> A.variable_map(B)\n",
      " |      {A_x: B_x*cos(q(t)) - B_y*sin(q(t)), A_y: B_x*sin(q(t)) + B_y*cos(q(t)), A_z: B_z}\n",
      " |  \n",
      " |  ----------------------------------------------------------------------\n",
      " |  Readonly properties defined here:\n",
      " |  \n",
      " |  x\n",
      " |      The basis Vector for the ReferenceFrame, in the x direction.\n",
      " |  \n",
      " |  y\n",
      " |      The basis Vector for the ReferenceFrame, in the y direction.\n",
      " |  \n",
      " |  z\n",
      " |      The basis Vector for the ReferenceFrame, in the z direction.\n",
      " |  \n",
      " |  ----------------------------------------------------------------------\n",
      " |  Data descriptors defined here:\n",
      " |  \n",
      " |  __dict__\n",
      " |      dictionary for instance variables (if defined)\n",
      " |  \n",
      " |  __weakref__\n",
      " |      list of weak references to the object (if defined)\n",
      "\n"
     ]
    }
   ],
   "source": [
    "help(ReferenceFrame)"
   ]
  },
  {
   "cell_type": "code",
   "execution_count": 3,
   "id": "positive-charger",
   "metadata": {
    "ExecuteTime": {
     "end_time": "2021-03-26T04:33:05.551728Z",
     "start_time": "2021-03-26T04:33:05.532737Z"
    }
   },
   "outputs": [],
   "source": [
    "N = ReferenceFrame('N')"
   ]
  },
  {
   "cell_type": "code",
   "execution_count": 9,
   "id": "rapid-cosmetic",
   "metadata": {
    "ExecuteTime": {
     "end_time": "2021-03-26T04:40:12.414789Z",
     "start_time": "2021-03-26T04:40:12.403795Z"
    },
    "scrolled": true
   },
   "outputs": [],
   "source": [
    "v = 1 * N.x + 2 * N.y + 3 * N.z"
   ]
  },
  {
   "cell_type": "code",
   "execution_count": 10,
   "id": "czech-disposition",
   "metadata": {
    "ExecuteTime": {
     "end_time": "2021-03-26T04:40:13.022518Z",
     "start_time": "2021-03-26T04:40:13.002527Z"
    }
   },
   "outputs": [
    {
     "data": {
      "text/latex": [
       "$\\displaystyle \\mathbf{\\hat{n}_x} + 2\\mathbf{\\hat{n}_y} + 3\\mathbf{\\hat{n}_z}$"
      ],
      "text/plain": [
       "N.x + 2*N.y + 3*N.z"
      ]
     },
     "execution_count": 10,
     "metadata": {},
     "output_type": "execute_result"
    }
   ],
   "source": [
    "v"
   ]
  },
  {
   "cell_type": "code",
   "execution_count": 11,
   "id": "surface-flush",
   "metadata": {
    "ExecuteTime": {
     "end_time": "2021-03-26T04:42:17.171055Z",
     "start_time": "2021-03-26T04:42:17.150065Z"
    }
   },
   "outputs": [
    {
     "data": {
      "text/latex": [
       "$\\displaystyle 2\\mathbf{\\hat{n}_x} + 4\\mathbf{\\hat{n}_y} + 6\\mathbf{\\hat{n}_z}$"
      ],
      "text/plain": [
       "2*N.x + 4*N.y + 6*N.z"
      ]
     },
     "execution_count": 11,
     "metadata": {},
     "output_type": "execute_result"
    }
   ],
   "source": [
    "2 * v"
   ]
  },
  {
   "cell_type": "code",
   "execution_count": 12,
   "id": "authorized-elite",
   "metadata": {
    "ExecuteTime": {
     "end_time": "2021-03-26T04:42:30.932352Z",
     "start_time": "2021-03-26T04:42:30.917358Z"
    }
   },
   "outputs": [
    {
     "data": {
      "text/latex": [
       "$\\displaystyle 0.333333333333333\\mathbf{\\hat{n}_x} + 0.666666666666667\\mathbf{\\hat{n}_y} + \\mathbf{\\hat{n}_z}$"
      ],
      "text/plain": [
       "0.333333333333333*N.x + 0.666666666666667*N.y + N.z"
      ]
     },
     "execution_count": 12,
     "metadata": {},
     "output_type": "execute_result"
    }
   ],
   "source": [
    "v / 3.0"
   ]
  },
  {
   "cell_type": "code",
   "execution_count": 13,
   "id": "enhanced-ending",
   "metadata": {
    "ExecuteTime": {
     "end_time": "2021-03-26T04:44:33.485663Z",
     "start_time": "2021-03-26T04:44:33.464673Z"
    }
   },
   "outputs": [
    {
     "data": {
      "text/latex": [
       "$\\displaystyle \\frac{1}{3}\\mathbf{\\hat{n}_x} + \\frac{2}{3}\\mathbf{\\hat{n}_y} + \\mathbf{\\hat{n}_z}$"
      ],
      "text/plain": [
       "1/3*N.x + 2/3*N.y + N.z"
      ]
     },
     "execution_count": 13,
     "metadata": {},
     "output_type": "execute_result"
    }
   ],
   "source": [
    "v / 3"
   ]
  },
  {
   "cell_type": "code",
   "execution_count": 14,
   "id": "promising-oasis",
   "metadata": {
    "ExecuteTime": {
     "end_time": "2021-03-26T04:47:08.935923Z",
     "start_time": "2021-03-26T04:47:08.922929Z"
    }
   },
   "outputs": [
    {
     "data": {
      "text/latex": [
       "$\\displaystyle 2\\mathbf{\\hat{n}_x} + 4\\mathbf{\\hat{n}_y} + 6\\mathbf{\\hat{n}_z}$"
      ],
      "text/plain": [
       "2*N.x + 4*N.y + 6*N.z"
      ]
     },
     "execution_count": 14,
     "metadata": {},
     "output_type": "execute_result"
    }
   ],
   "source": [
    "v + v"
   ]
  },
  {
   "cell_type": "code",
   "execution_count": 15,
   "id": "literary-oxford",
   "metadata": {
    "ExecuteTime": {
     "end_time": "2021-03-26T04:47:19.804915Z",
     "start_time": "2021-03-26T04:47:19.786923Z"
    }
   },
   "outputs": [],
   "source": [
    "w = 5 * N.x + 7 * N.y"
   ]
  },
  {
   "cell_type": "code",
   "execution_count": 16,
   "id": "charitable-congress",
   "metadata": {
    "ExecuteTime": {
     "end_time": "2021-03-26T04:47:27.132990Z",
     "start_time": "2021-03-26T04:47:27.121996Z"
    }
   },
   "outputs": [
    {
     "data": {
      "text/latex": [
       "$\\displaystyle - 4\\mathbf{\\hat{n}_x} - 5\\mathbf{\\hat{n}_y} + 3\\mathbf{\\hat{n}_z}$"
      ],
      "text/plain": [
       "- 4*N.x - 5*N.y + 3*N.z"
      ]
     },
     "execution_count": 16,
     "metadata": {},
     "output_type": "execute_result"
    }
   ],
   "source": [
    "v - w"
   ]
  },
  {
   "cell_type": "code",
   "execution_count": 17,
   "id": "circular-corpus",
   "metadata": {
    "ExecuteTime": {
     "end_time": "2021-03-26T04:49:05.098553Z",
     "start_time": "2021-03-26T04:49:05.084559Z"
    }
   },
   "outputs": [
    {
     "data": {
      "text/latex": [
       "$\\displaystyle \\sqrt{14}$"
      ],
      "text/plain": [
       "sqrt(14)"
      ]
     },
     "execution_count": 17,
     "metadata": {},
     "output_type": "execute_result"
    }
   ],
   "source": [
    "v.magnitude()"
   ]
  },
  {
   "cell_type": "code",
   "execution_count": 18,
   "id": "entitled-bulletin",
   "metadata": {
    "ExecuteTime": {
     "end_time": "2021-03-26T04:50:32.282321Z",
     "start_time": "2021-03-26T04:50:32.269327Z"
    }
   },
   "outputs": [
    {
     "data": {
      "text/latex": [
       "$\\displaystyle \\frac{\\sqrt{14}}{14}\\mathbf{\\hat{n}_x} + \\frac{\\sqrt{14}}{7}\\mathbf{\\hat{n}_y} + \\frac{3 \\sqrt{14}}{14}\\mathbf{\\hat{n}_z}$"
      ],
      "text/plain": [
       "sqrt(14)/14*N.x + sqrt(14)/7*N.y + 3*sqrt(14)/14*N.z"
      ]
     },
     "execution_count": 18,
     "metadata": {},
     "output_type": "execute_result"
    }
   ],
   "source": [
    "v.normalize()"
   ]
  },
  {
   "cell_type": "code",
   "execution_count": 19,
   "id": "magnetic-impact",
   "metadata": {
    "ExecuteTime": {
     "end_time": "2021-03-26T04:52:20.312021Z",
     "start_time": "2021-03-26T04:52:20.297027Z"
    }
   },
   "outputs": [
    {
     "data": {
      "text/plain": [
       "[(Matrix([\n",
       "  [1],\n",
       "  [2],\n",
       "  [3]]),\n",
       "  N)]"
      ]
     },
     "execution_count": 19,
     "metadata": {},
     "output_type": "execute_result"
    }
   ],
   "source": [
    "v.args"
   ]
  },
  {
   "cell_type": "code",
   "execution_count": 20,
   "id": "young-scale",
   "metadata": {
    "ExecuteTime": {
     "end_time": "2021-03-26T04:53:35.357044Z",
     "start_time": "2021-03-26T04:53:35.336054Z"
    }
   },
   "outputs": [
    {
     "data": {
      "text/latex": [
       "$\\displaystyle 19$"
      ],
      "text/plain": [
       "19"
      ]
     },
     "execution_count": 20,
     "metadata": {},
     "output_type": "execute_result"
    }
   ],
   "source": [
    "dot(v, w)"
   ]
  },
  {
   "cell_type": "code",
   "execution_count": 21,
   "id": "satisfied-double",
   "metadata": {
    "ExecuteTime": {
     "end_time": "2021-03-26T04:53:43.992424Z",
     "start_time": "2021-03-26T04:53:43.983428Z"
    }
   },
   "outputs": [
    {
     "data": {
      "text/latex": [
       "$\\displaystyle - 21\\mathbf{\\hat{n}_x} + 15\\mathbf{\\hat{n}_y} - 3\\mathbf{\\hat{n}_z}$"
      ],
      "text/plain": [
       "- 21*N.x + 15*N.y - 3*N.z"
      ]
     },
     "execution_count": 21,
     "metadata": {},
     "output_type": "execute_result"
    }
   ],
   "source": [
    "cross(v, w)"
   ]
  },
  {
   "cell_type": "code",
   "execution_count": 22,
   "id": "subsequent-hudson",
   "metadata": {
    "ExecuteTime": {
     "end_time": "2021-03-26T04:55:36.542688Z",
     "start_time": "2021-03-26T04:55:36.530694Z"
    }
   },
   "outputs": [],
   "source": [
    "a1, a2, a3 = symbols('a1 a2 a3')\n",
    "b1, b2, b3 = symbols('b1 b2 b3')"
   ]
  },
  {
   "cell_type": "code",
   "execution_count": 25,
   "id": "assisted-hartford",
   "metadata": {
    "ExecuteTime": {
     "end_time": "2021-03-26T04:56:14.987259Z",
     "start_time": "2021-03-26T04:56:14.972267Z"
    }
   },
   "outputs": [],
   "source": [
    "x = a1 * N.x + a2 * N.y + a3 * N.z\n",
    "y = b1 * N.x + b2 * N.y + b3 * N.z"
   ]
  },
  {
   "cell_type": "code",
   "execution_count": 27,
   "id": "heated-reservoir",
   "metadata": {
    "ExecuteTime": {
     "end_time": "2021-03-26T04:57:03.977836Z",
     "start_time": "2021-03-26T04:57:03.957844Z"
    }
   },
   "outputs": [
    {
     "data": {
      "text/latex": [
       "$\\displaystyle a_{1} b_{1} + a_{2} b_{2} + a_{3} b_{3}$"
      ],
      "text/plain": [
       "a1*b1 + a2*b2 + a3*b3"
      ]
     },
     "execution_count": 27,
     "metadata": {},
     "output_type": "execute_result"
    }
   ],
   "source": [
    "dot(x, y)"
   ]
  },
  {
   "cell_type": "code",
   "execution_count": 28,
   "id": "first-sleeping",
   "metadata": {
    "ExecuteTime": {
     "end_time": "2021-03-26T04:57:05.408197Z",
     "start_time": "2021-03-26T04:57:05.381209Z"
    }
   },
   "outputs": [
    {
     "data": {
      "text/latex": [
       "$\\displaystyle (a_{2} b_{3} - a_{3} b_{2})\\mathbf{\\hat{n}_x} + (- a_{1} b_{3} + a_{3} b_{1})\\mathbf{\\hat{n}_y} + (a_{1} b_{2} - a_{2} b_{1})\\mathbf{\\hat{n}_z}$"
      ],
      "text/plain": [
       "(a2*b3 - a3*b2)*N.x + (-a1*b3 + a3*b1)*N.y + (a1*b2 - a2*b1)*N.z"
      ]
     },
     "execution_count": 28,
     "metadata": {},
     "output_type": "execute_result"
    }
   ],
   "source": [
    "z = cross(x, y)\n",
    "z"
   ]
  },
  {
   "cell_type": "code",
   "execution_count": 29,
   "id": "intermediate-introduction",
   "metadata": {
    "ExecuteTime": {
     "end_time": "2021-03-26T04:58:22.139082Z",
     "start_time": "2021-03-26T04:58:22.126088Z"
    }
   },
   "outputs": [
    {
     "data": {
      "text/latex": [
       "$\\displaystyle a_{1} + 2 a_{2} + 3 a_{3}$"
      ],
      "text/plain": [
       "a1 + 2*a2 + 3*a3"
      ]
     },
     "execution_count": 29,
     "metadata": {},
     "output_type": "execute_result"
    }
   ],
   "source": [
    "dot(v, x)"
   ]
  },
  {
   "cell_type": "code",
   "execution_count": 30,
   "id": "accomplished-symposium",
   "metadata": {
    "ExecuteTime": {
     "end_time": "2021-03-26T05:00:21.397772Z",
     "start_time": "2021-03-26T05:00:21.367786Z"
    }
   },
   "outputs": [
    {
     "data": {
      "text/latex": [
       "$\\displaystyle -  b_{3}\\mathbf{\\hat{n}_y} + b_{2}\\mathbf{\\hat{n}_z}$"
      ],
      "text/plain": [
       "- b3*N.y + b2*N.z"
      ]
     },
     "execution_count": 30,
     "metadata": {},
     "output_type": "execute_result"
    }
   ],
   "source": [
    "z.diff(a1, N)"
   ]
  },
  {
   "cell_type": "code",
   "execution_count": 31,
   "id": "normal-extension",
   "metadata": {
    "ExecuteTime": {
     "end_time": "2021-03-26T05:01:14.532500Z",
     "start_time": "2021-03-26T05:01:14.521506Z"
    }
   },
   "outputs": [
    {
     "data": {
      "text/latex": [
       "$\\displaystyle (a_{2} b_{3} - a_{3} b_{2})\\mathbf{\\hat{n}_x} + (- a_{1} b_{3} + a_{3} b_{1})\\mathbf{\\hat{n}_y} + (a_{1} b_{2} - a_{2} b_{1})\\mathbf{\\hat{n}_z}$"
      ],
      "text/plain": [
       "(a2*b3 - a3*b2)*N.x + (-a1*b3 + a3*b1)*N.y + (a1*b2 - a2*b1)*N.z"
      ]
     },
     "execution_count": 31,
     "metadata": {},
     "output_type": "execute_result"
    }
   ],
   "source": [
    "z"
   ]
  },
  {
   "cell_type": "code",
   "execution_count": 32,
   "id": "after-picture",
   "metadata": {
    "ExecuteTime": {
     "end_time": "2021-03-26T05:03:46.394631Z",
     "start_time": "2021-03-26T05:03:46.371642Z"
    }
   },
   "outputs": [],
   "source": [
    "A = ReferenceFrame('A')\n",
    "alpha = symbols('alpha')\n",
    "A.orient(N, 'Axis', [alpha, N.x])"
   ]
  },
  {
   "cell_type": "code",
   "execution_count": 38,
   "id": "editorial-berlin",
   "metadata": {
    "ExecuteTime": {
     "end_time": "2021-03-26T05:07:30.524960Z",
     "start_time": "2021-03-26T05:07:30.502971Z"
    }
   },
   "outputs": [
    {
     "data": {
      "text/latex": [
       "$\\displaystyle \\left[\\begin{matrix}1 & 0 & 0\\\\0 & \\cos{\\left(\\alpha \\right)} & \\sin{\\left(\\alpha \\right)}\\\\0 & - \\sin{\\left(\\alpha \\right)} & \\cos{\\left(\\alpha \\right)}\\end{matrix}\\right]$"
      ],
      "text/plain": [
       "Matrix([\n",
       "[1,           0,          0],\n",
       "[0,  cos(alpha), sin(alpha)],\n",
       "[0, -sin(alpha), cos(alpha)]])"
      ]
     },
     "execution_count": 38,
     "metadata": {},
     "output_type": "execute_result"
    }
   ],
   "source": [
    "A.dcm(N)"
   ]
  },
  {
   "cell_type": "code",
   "execution_count": 39,
   "id": "virtual-disposition",
   "metadata": {
    "ExecuteTime": {
     "end_time": "2021-03-26T05:12:49.474978Z",
     "start_time": "2021-03-26T05:12:49.461984Z"
    }
   },
   "outputs": [
    {
     "data": {
      "text/latex": [
       "$\\displaystyle \\mathbf{\\hat{a}_x} + (3 \\sin{\\left(\\alpha \\right)} + 2 \\cos{\\left(\\alpha \\right)})\\mathbf{\\hat{a}_y} + (- 2 \\sin{\\left(\\alpha \\right)} + 3 \\cos{\\left(\\alpha \\right)})\\mathbf{\\hat{a}_z}$"
      ],
      "text/plain": [
       "A.x + (3*sin(alpha) + 2*cos(alpha))*A.y + (-2*sin(alpha) + 3*cos(alpha))*A.z"
      ]
     },
     "execution_count": 39,
     "metadata": {},
     "output_type": "execute_result"
    }
   ],
   "source": [
    "v.express(A)"
   ]
  },
  {
   "cell_type": "code",
   "execution_count": 41,
   "id": "beneficial-reputation",
   "metadata": {
    "ExecuteTime": {
     "end_time": "2021-03-26T05:17:15.474291Z",
     "start_time": "2021-03-26T05:17:15.441306Z"
    }
   },
   "outputs": [
    {
     "data": {
      "text/latex": [
       "$\\displaystyle (a_{2} b_{3} - a_{3} b_{2})\\mathbf{\\hat{a}_x} + (\\left(a_{1} b_{2} - a_{2} b_{1}\\right) \\sin{\\left(\\alpha \\right)} + \\left(- a_{1} b_{3} + a_{3} b_{1}\\right) \\cos{\\left(\\alpha \\right)})\\mathbf{\\hat{a}_y} + (\\left(a_{1} b_{2} - a_{2} b_{1}\\right) \\cos{\\left(\\alpha \\right)} - \\left(- a_{1} b_{3} + a_{3} b_{1}\\right) \\sin{\\left(\\alpha \\right)})\\mathbf{\\hat{a}_z}$"
      ],
      "text/plain": [
       "(a2*b3 - a3*b2)*A.x + ((a1*b2 - a2*b1)*sin(alpha) + (-a1*b3 + a3*b1)*cos(alpha))*A.y + ((a1*b2 - a2*b1)*cos(alpha) - (-a1*b3 + a3*b1)*sin(alpha))*A.z"
      ]
     },
     "execution_count": 41,
     "metadata": {},
     "output_type": "execute_result"
    }
   ],
   "source": [
    "z.express(A)"
   ]
  },
  {
   "cell_type": "code",
   "execution_count": 45,
   "id": "specialized-academy",
   "metadata": {
    "ExecuteTime": {
     "end_time": "2021-03-26T05:24:00.155539Z",
     "start_time": "2021-03-26T05:24:00.143544Z"
    }
   },
   "outputs": [
    {
     "name": "stdout",
     "output_type": "stream",
     "text": [
      "beta(t) d(t)\n"
     ]
    }
   ],
   "source": [
    "beta, d = dynamicsymbols('beta d')"
   ]
  },
  {
   "cell_type": "code",
   "execution_count": 46,
   "id": "tamil-barcelona",
   "metadata": {
    "ExecuteTime": {
     "end_time": "2021-03-26T05:27:24.713258Z",
     "start_time": "2021-03-26T05:27:24.692266Z"
    }
   },
   "outputs": [],
   "source": [
    "B = A.orientnew('B', 'Axis', (beta, A.y))\n",
    "vec = d * B.z"
   ]
  },
  {
   "cell_type": "code",
   "execution_count": 49,
   "id": "foreign-liver",
   "metadata": {
    "ExecuteTime": {
     "end_time": "2021-03-26T05:28:07.142120Z",
     "start_time": "2021-03-26T05:28:07.133124Z"
    }
   },
   "outputs": [
    {
     "data": {
      "text/latex": [
       "$\\displaystyle \\frac{d}{d t} \\beta{\\left(t \\right)}\\mathbf{\\hat{a}_y}$"
      ],
      "text/plain": [
       "Derivative(beta(t), t)*A.y"
      ]
     },
     "execution_count": 49,
     "metadata": {},
     "output_type": "execute_result"
    }
   ],
   "source": [
    "B.ang_vel_in(N)"
   ]
  },
  {
   "cell_type": "code",
   "execution_count": 50,
   "id": "optional-scotland",
   "metadata": {
    "ExecuteTime": {
     "end_time": "2021-03-26T05:30:26.128773Z",
     "start_time": "2021-03-26T05:30:26.106782Z"
    }
   },
   "outputs": [
    {
     "data": {
      "text/latex": [
       "$\\displaystyle d{\\left(t \\right)} \\frac{d}{d t} \\beta{\\left(t \\right)}\\mathbf{\\hat{b}_x} + \\frac{d}{d t} d{\\left(t \\right)}\\mathbf{\\hat{b}_z}$"
      ],
      "text/plain": [
       "d(t)*Derivative(beta(t), t)*B.x + Derivative(d(t), t)*B.z"
      ]
     },
     "execution_count": 50,
     "metadata": {},
     "output_type": "execute_result"
    }
   ],
   "source": [
    "vecdot = vec.dt(N)\n",
    "vecdot"
   ]
  },
  {
   "cell_type": "code",
   "execution_count": 53,
   "id": "ordered-gazette",
   "metadata": {
    "ExecuteTime": {
     "end_time": "2021-03-26T05:47:20.882561Z",
     "start_time": "2021-03-26T05:47:20.848576Z"
    }
   },
   "outputs": [
    {
     "data": {
      "text/latex": [
       "$\\displaystyle (d{\\left(t \\right)} \\cos{\\left(\\beta{\\left(t \\right)} \\right)} \\frac{d}{d t} \\beta{\\left(t \\right)} + \\sin{\\left(\\beta{\\left(t \\right)} \\right)} \\frac{d}{d t} d{\\left(t \\right)})\\mathbf{\\hat{n}_x} + (d{\\left(t \\right)} \\sin{\\left(\\alpha \\right)} \\sin{\\left(\\beta{\\left(t \\right)} \\right)} \\frac{d}{d t} \\beta{\\left(t \\right)} - \\sin{\\left(\\alpha \\right)} \\cos{\\left(\\beta{\\left(t \\right)} \\right)} \\frac{d}{d t} d{\\left(t \\right)})\\mathbf{\\hat{n}_y} + (- d{\\left(t \\right)} \\sin{\\left(\\beta{\\left(t \\right)} \\right)} \\cos{\\left(\\alpha \\right)} \\frac{d}{d t} \\beta{\\left(t \\right)} + \\cos{\\left(\\alpha \\right)} \\cos{\\left(\\beta{\\left(t \\right)} \\right)} \\frac{d}{d t} d{\\left(t \\right)})\\mathbf{\\hat{n}_z}$"
      ],
      "text/plain": [
       "(d(t)*cos(beta(t))*Derivative(beta(t), t) + sin(beta(t))*Derivative(d(t), t))*N.x + (d(t)*sin(alpha)*sin(beta(t))*Derivative(beta(t), t) - sin(alpha)*cos(beta(t))*Derivative(d(t), t))*N.y + (-d(t)*sin(beta(t))*cos(alpha)*Derivative(beta(t), t) + cos(alpha)*cos(beta(t))*Derivative(d(t), t))*N.z"
      ]
     },
     "execution_count": 53,
     "metadata": {},
     "output_type": "execute_result"
    }
   ],
   "source": [
    "vecdot.express(N)"
   ]
  },
  {
   "cell_type": "code",
   "execution_count": 54,
   "id": "comfortable-captain",
   "metadata": {
    "ExecuteTime": {
     "end_time": "2021-03-26T05:52:41.442770Z",
     "start_time": "2021-03-26T05:52:41.428777Z"
    }
   },
   "outputs": [
    {
     "data": {
      "text/plain": [
       "(theta(t), Derivative(theta(t), t))"
      ]
     },
     "execution_count": 54,
     "metadata": {},
     "output_type": "execute_result"
    }
   ],
   "source": [
    "theta = dynamicsymbols('theta')\n",
    "thetad = dynamicsymbols('theta', 1)\n",
    "theta, thetad"
   ]
  },
  {
   "cell_type": "code",
   "execution_count": 57,
   "id": "forced-rugby",
   "metadata": {
    "ExecuteTime": {
     "end_time": "2021-03-26T06:29:35.697204Z",
     "start_time": "2021-03-26T06:29:35.678212Z"
    }
   },
   "outputs": [
    {
     "data": {
      "text/html": [
       "\n",
       "<head>\n",
       "    <meta charset=\"UTF-8\">\n",
       "    <meta name=\"viewport\" content=\"width=device-width, initial-scale=1.0\">\n",
       "    <meta http-equiv=\"X-UA-Compatible\" content=\"ie=edge\">\n",
       "    <title>Document</title>\n",
       "    <style>\n",
       "        * {\n",
       "            padding: 0;\n",
       "            margin: 0;\n",
       "        }\n",
       "\n",
       "        .item {\n",
       "            width: 200px;\n",
       "            height: 200px;\n",
       "            position: relative;\n",
       "            border: 2px solid #dddddd;\n",
       "            border-width: 2px 2px 0 0;\n",
       "            margin-left: 100px;\n",
       "            margin-top: 100px;\n",
       "            background: linear-gradient(to top, #ddd 10%, transparent 10%), linear-gradient(to right, #ddd 10%, transparent 10%);\n",
       "            background-size: 100% 20%, 20%, 100%;\n",
       "        }\n",
       "\n",
       "        .qiu {\n",
       "            width: 20px;\n",
       "            height: 20px;\n",
       "            background-color: blue;\n",
       "            border-radius: 50%;\n",
       "            position: absolute;\n",
       "            transition: all 0.8s;\n",
       "        }\n",
       "\n",
       "        .con {\n",
       "\n",
       "            width: 20px;\n",
       "            height: 20px;\n",
       "            background-color: transparent;\n",
       "            border-radius: 50%;\n",
       "            position: absolute;\n",
       "            top: -10px;\n",
       "            left: -10px;\n",
       "            transition: all 0.8s;\n",
       "        }\n",
       "\n",
       "        .item:hover .con {\n",
       "            transform: translateX(200px);\n",
       "            transition-timing-function: linear;\n",
       "        }\n",
       "\n",
       "        .item:hover .qiu {\n",
       "            transform: translateY(200px);\n",
       "            transition-timing-function: cubic-bezier(.58, -0.42, 1, .65)\n",
       "        }\n",
       "    </style>\n",
       "</head>\n",
       "\n",
       "<body>\n",
       "    <div class=\"item\">\n",
       "        <i class=\"con\"> <i class=\"qiu\"> </i> </i>\n",
       "    </div>\n",
       "</body>\n"
      ],
      "text/plain": [
       "<IPython.core.display.HTML object>"
      ]
     },
     "execution_count": 57,
     "metadata": {},
     "output_type": "execute_result"
    }
   ],
   "source": [
    "from IPython.display import HTML\n",
    "h = \\\n",
    "\"\"\"\n",
    "<head>\n",
    "    <meta charset=\"UTF-8\">\n",
    "    <meta name=\"viewport\" content=\"width=device-width, initial-scale=1.0\">\n",
    "    <meta http-equiv=\"X-UA-Compatible\" content=\"ie=edge\">\n",
    "    <title>Document</title>\n",
    "    <style>\n",
    "        * {\n",
    "            padding: 0;\n",
    "            margin: 0;\n",
    "        }\n",
    "\n",
    "        .item {\n",
    "            width: 200px;\n",
    "            height: 200px;\n",
    "            position: relative;\n",
    "            border: 2px solid #dddddd;\n",
    "            border-width: 2px 2px 0 0;\n",
    "            margin-left: 100px;\n",
    "            margin-top: 100px;\n",
    "            background: linear-gradient(to top, #ddd 10%, transparent 10%), linear-gradient(to right, #ddd 10%, transparent 10%);\n",
    "            background-size: 100% 20%, 20%, 100%;\n",
    "        }\n",
    "\n",
    "        .qiu {\n",
    "            width: 20px;\n",
    "            height: 20px;\n",
    "            background-color: blue;\n",
    "            border-radius: 50%;\n",
    "            position: absolute;\n",
    "            transition: all 0.8s;\n",
    "        }\n",
    "\n",
    "        .con {\n",
    "\n",
    "            width: 20px;\n",
    "            height: 20px;\n",
    "            background-color: transparent;\n",
    "            border-radius: 50%;\n",
    "            position: absolute;\n",
    "            top: -10px;\n",
    "            left: -10px;\n",
    "            transition: all 0.8s;\n",
    "        }\n",
    "\n",
    "        .item:hover .con {\n",
    "            transform: translateX(200px);\n",
    "            transition-timing-function: linear;\n",
    "        }\n",
    "\n",
    "        .item:hover .qiu {\n",
    "            transform: translateY(200px);\n",
    "            transition-timing-function: cubic-bezier(.58, -0.42, 1, .65)\n",
    "        }\n",
    "    </style>\n",
    "</head>\n",
    "\n",
    "<body>\n",
    "    <div class=\"item\">\n",
    "        <i class=\"con\"> <i class=\"qiu\"> </i> </i>\n",
    "    </div>\n",
    "</body>\n",
    "\"\"\"\n",
    "HTML(h)"
   ]
  },
  {
   "cell_type": "code",
   "execution_count": 58,
   "id": "waiting-potato",
   "metadata": {
    "ExecuteTime": {
     "end_time": "2021-03-26T06:30:52.275473Z",
     "start_time": "2021-03-26T06:30:52.266477Z"
    }
   },
   "outputs": [
    {
     "data": {
      "text/html": [
       "\n",
       "<head>\n",
       "\t<meta charset=\"UTF-8\" />\n",
       "\t<title> css3圆形轨迹动画 </title>\n",
       "<style type=\"text/css\">\n",
       "@keyframes animX{\n",
       "\t  0% {left: 0px;}\n",
       "\t100% {left: 500px;}\n",
       "}\n",
       "@keyframes animY{\n",
       "\t  0% {top: 0px;}\n",
       "\t100% {top: 500px;}\n",
       "}\n",
       " \n",
       "#ball {\n",
       "\twidth: 20px;\n",
       "\theight: 20px;\n",
       "\tbackground-color: #f66;\n",
       "\tborder-radius: 50%;\n",
       "\tposition: absolute;\n",
       "\tanimation: animX 4s cubic-bezier(0.36,0,0.64,1) -2s infinite alternate, animY 4s cubic-bezier(0.36,0,0.64,1)  0s infinite alternate;\n",
       "}\n",
       " \n",
       "#lopp {\n",
       "\twidth: 498px;\n",
       "\theight: 498px;\n",
       "\tborder: 2px solid #999;\n",
       "\tborder-radius: 50%;\n",
       "\tposition: absolute;\n",
       "\tleft: 9px;\n",
       "\ttop: 9px;\n",
       "}\n",
       " \n",
       "</style>\n",
       "</head>\n",
       "<body>\n",
       "<div id=\"lopp\"></div>\n",
       "<div id=\"ball\"></div>\n"
      ],
      "text/plain": [
       "<IPython.core.display.HTML object>"
      ]
     },
     "execution_count": 58,
     "metadata": {},
     "output_type": "execute_result"
    }
   ],
   "source": [
    "h = \\\n",
    "\"\"\"\n",
    "<head>\n",
    "\t<meta charset=\"UTF-8\" />\n",
    "\t<title> css3圆形轨迹动画 </title>\n",
    "<style type=\"text/css\">\n",
    "@keyframes animX{\n",
    "\t  0% {left: 0px;}\n",
    "\t100% {left: 500px;}\n",
    "}\n",
    "@keyframes animY{\n",
    "\t  0% {top: 0px;}\n",
    "\t100% {top: 500px;}\n",
    "}\n",
    " \n",
    "#ball {\n",
    "\twidth: 20px;\n",
    "\theight: 20px;\n",
    "\tbackground-color: #f66;\n",
    "\tborder-radius: 50%;\n",
    "\tposition: absolute;\n",
    "\tanimation: animX 4s cubic-bezier(0.36,0,0.64,1) -2s infinite alternate, animY 4s cubic-bezier(0.36,0,0.64,1)  0s infinite alternate;\n",
    "}\n",
    " \n",
    "#lopp {\n",
    "\twidth: 498px;\n",
    "\theight: 498px;\n",
    "\tborder: 2px solid #999;\n",
    "\tborder-radius: 50%;\n",
    "\tposition: absolute;\n",
    "\tleft: 9px;\n",
    "\ttop: 9px;\n",
    "}\n",
    " \n",
    "</style>\n",
    "</head>\n",
    "<body>\n",
    "<div id=\"lopp\"></div>\n",
    "<div id=\"ball\"></div>\n",
    "\"\"\"\n",
    "HTML(h)"
   ]
  },
  {
   "cell_type": "code",
   "execution_count": null,
   "id": "major-medicare",
   "metadata": {},
   "outputs": [],
   "source": []
  }
 ],
 "metadata": {
  "kernelspec": {
   "display_name": "ui",
   "language": "python",
   "name": "ui"
  },
  "language_info": {
   "codemirror_mode": {
    "name": "ipython",
    "version": 3
   },
   "file_extension": ".py",
   "mimetype": "text/x-python",
   "name": "python",
   "nbconvert_exporter": "python",
   "pygments_lexer": "ipython3",
   "version": "3.9.2"
  },
  "toc": {
   "base_numbering": 1,
   "nav_menu": {},
   "number_sections": true,
   "sideBar": true,
   "skip_h1_title": false,
   "title_cell": "Table of Contents",
   "title_sidebar": "Contents",
   "toc_cell": false,
   "toc_position": {},
   "toc_section_display": true,
   "toc_window_display": false
  }
 },
 "nbformat": 4,
 "nbformat_minor": 5
}
