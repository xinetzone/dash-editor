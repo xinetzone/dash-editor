{
 "cells": [
  {
   "cell_type": "raw",
   "id": "logical-honey",
   "metadata": {
    "ExecuteTime": {
     "end_time": "2021-03-26T01:54:57.199648Z",
     "start_time": "2021-03-26T01:54:57.186654Z"
    }
   },
   "source": [
    "from typing import Sized, Generator\n",
    "from dataclasses import dataclass, Field"
   ]
  },
  {
   "cell_type": "code",
   "execution_count": 1,
   "id": "north-camcorder",
   "metadata": {
    "ExecuteTime": {
     "end_time": "2021-03-30T02:23:00.353439Z",
     "start_time": "2021-03-30T02:23:00.326452Z"
    },
    "scrolled": true
   },
   "outputs": [],
   "source": [
    "from dataclasses import dataclass, asdict\n",
    "from pathlib import Path\n",
    "import time\n",
    "from datetime import datetime\n",
    "import toml\n",
    "from tools.obstacle.simulate import ObstacleInfo, obstacle_simulate"
   ]
  },
  {
   "cell_type": "code",
   "execution_count": 2,
   "id": "supported-screening",
   "metadata": {
    "ExecuteTime": {
     "end_time": "2021-03-30T02:23:00.384425Z",
     "start_time": "2021-03-30T02:23:00.356438Z"
    },
    "scrolled": true
   },
   "outputs": [
    {
     "data": {
      "text/plain": [
       "{'obstacle_ID': 61,\n",
       " 'obstacle_length': 9.8,\n",
       " 'obstacle_width': 0.5,\n",
       " 'obstacle_height': 1.44,\n",
       " 'obstacle_PosX': 142.0,\n",
       " 'obstacle_PosY': -185.0,\n",
       " 'obstacle_VelX': -98.44,\n",
       " 'obstacle_VelY': -15.0,\n",
       " 'obstacle_AccX': -14.44,\n",
       " 'obstacle_AccY': -6.66,\n",
       " 'obstacle_VelXAbs': -11.15,\n",
       " 'obstacle_VelYAbs': -14.0,\n",
       " 'obstacle_angle': 311.08,\n",
       " 'obstacle_center_angle': -145.37,\n",
       " 'obstacle__ttc': 8.0,\n",
       " 'obstacle_confidence': 2,\n",
       " 'obstacle_age': 63008,\n",
       " 'obstacle_valid': 1,\n",
       " 'obstacle_replaced': 0,\n",
       " 'obstacle_motion_category': 2,\n",
       " 'obstacle_motion_status': 0,\n",
       " 'obstacle_measuring_status': 1,\n",
       " 'obstacle_class': 1,\n",
       " 'vehicle_subtype': 5,\n",
       " 'ped_subtype': 1,\n",
       " 'ped_pos': 1,\n",
       " 'ped_orientation': 2,\n",
       " 'obstacle_lane_assignment': 0,\n",
       " 'CIPV_flag': 1,\n",
       " 'MCP_flag': 1,\n",
       " 'obstacle_blinker_info': 3,\n",
       " 'obstacle_brake_lights': 0}"
      ]
     },
     "execution_count": 2,
     "metadata": {},
     "output_type": "execute_result"
    }
   ],
   "source": [
    "self = ObstacleInfo()\n",
    "\n",
    "asdict(self)"
   ]
  },
  {
   "cell_type": "code",
   "execution_count": 3,
   "id": "after-gregory",
   "metadata": {
    "ExecuteTime": {
     "end_time": "2021-03-30T02:23:00.399419Z",
     "start_time": "2021-03-30T02:23:00.387425Z"
    }
   },
   "outputs": [],
   "source": [
    "save_dir = 'logs'"
   ]
  },
  {
   "cell_type": "code",
   "execution_count": 4,
   "id": "compressed-bruce",
   "metadata": {
    "ExecuteTime": {
     "end_time": "2021-03-30T02:23:00.415411Z",
     "start_time": "2021-03-30T02:23:00.401418Z"
    }
   },
   "outputs": [],
   "source": [
    "def mkdir(out_dir):\n",
    "    out_dir = Path(out_dir)\n",
    "    if not out_dir.exists():\n",
    "        out_dir.mkdir(parents=True, exist_ok=True)"
   ]
  },
  {
   "cell_type": "code",
   "execution_count": 5,
   "id": "ranking-transsexual",
   "metadata": {
    "ExecuteTime": {
     "end_time": "2021-03-30T02:23:34.142878Z",
     "start_time": "2021-03-30T02:23:00.417411Z"
    },
    "scrolled": true
   },
   "outputs": [
    {
     "ename": "KeyboardInterrupt",
     "evalue": "",
     "output_type": "error",
     "traceback": [
      "\u001b[1;31m---------------------------------------------------------------------------\u001b[0m",
      "\u001b[1;31mKeyboardInterrupt\u001b[0m                         Traceback (most recent call last)",
      "\u001b[1;32m<ipython-input-5-feb675ac7bad>\u001b[0m in \u001b[0;36m<module>\u001b[1;34m\u001b[0m\n\u001b[0;32m      7\u001b[0m     \u001b[1;32mwith\u001b[0m \u001b[0mopen\u001b[0m\u001b[1;33m(\u001b[0m\u001b[1;34mf'{save_dir}/obstacle.toml'\u001b[0m\u001b[1;33m,\u001b[0m \u001b[1;34m'a'\u001b[0m\u001b[1;33m)\u001b[0m \u001b[1;32mas\u001b[0m \u001b[0mfp\u001b[0m\u001b[1;33m:\u001b[0m\u001b[1;33m\u001b[0m\u001b[1;33m\u001b[0m\u001b[0m\n\u001b[0;32m      8\u001b[0m         \u001b[0mtoml\u001b[0m\u001b[1;33m.\u001b[0m\u001b[0mdump\u001b[0m\u001b[1;33m(\u001b[0m\u001b[1;33m{\u001b[0m\u001b[0mstr\u001b[0m\u001b[1;33m(\u001b[0m\u001b[0mnow\u001b[0m\u001b[1;33m)\u001b[0m\u001b[1;33m:\u001b[0m\u001b[0mD\u001b[0m\u001b[1;33m}\u001b[0m\u001b[1;33m,\u001b[0m \u001b[0mfp\u001b[0m\u001b[1;33m)\u001b[0m\u001b[1;33m\u001b[0m\u001b[1;33m\u001b[0m\u001b[0m\n\u001b[1;32m----> 9\u001b[1;33m     \u001b[0mtime\u001b[0m\u001b[1;33m.\u001b[0m\u001b[0msleep\u001b[0m\u001b[1;33m(\u001b[0m\u001b[1;36m0.5\u001b[0m\u001b[1;33m)\u001b[0m\u001b[1;33m\u001b[0m\u001b[1;33m\u001b[0m\u001b[0m\n\u001b[0m",
      "\u001b[1;31mKeyboardInterrupt\u001b[0m: "
     ]
    }
   ],
   "source": [
    "mkdir(save_dir)\n",
    "\n",
    "while 1:\n",
    "    now = datetime.now() # 获取当前时间\n",
    "    self = ObstacleInfo(**obstacle_simulate())\n",
    "    D = asdict(self)\n",
    "    with open(f'{save_dir}/obstacle.toml', 'a') as fp:\n",
    "        toml.dump({str(now):D}, fp)\n",
    "    time.sleep(0.5)"
   ]
  },
  {
   "cell_type": "code",
   "execution_count": 9,
   "id": "breathing-seventh",
   "metadata": {
    "ExecuteTime": {
     "end_time": "2021-03-31T06:26:50.392229Z",
     "start_time": "2021-03-31T06:26:50.378236Z"
    }
   },
   "outputs": [
    {
     "data": {
      "text/plain": [
       "ObstacleInfo(obstacle_ID=29, obstacle_length=9.8, obstacle_width=4.24, obstacle_height=7.44, obstacle_PosX=-81.0, obstacle_PosY=-193.0, obstacle_VelX=-86.37, obstacle_VelY=-41.0, obstacle_AccX=0.97, obstacle_AccY=-3.23, obstacle_VelXAbs=14.95, obstacle_VelYAbs=-8.0, obstacle_angle=80.48, obstacle_center_angle=-226.94, obstacle__ttc=1.0, obstacle_confidence=38, obstacle_age=36635, obstacle_valid=0, obstacle_replaced=0, obstacle_motion_category=2, obstacle_motion_status=2, obstacle_measuring_status=0, obstacle_class=4, vehicle_subtype=6, ped_subtype=1, ped_pos=1, ped_orientation=4, obstacle_lane_assignment=1, CIPV_flag=1, MCP_flag=1, obstacle_blinker_info=1, obstacle_brake_lights=0)"
      ]
     },
     "execution_count": 9,
     "metadata": {},
     "output_type": "execute_result"
    }
   ],
   "source": [
    "self = ObstacleInfo(**obstacle_simulate())\n",
    "self"
   ]
  },
  {
   "cell_type": "code",
   "execution_count": 10,
   "id": "ideal-scratch",
   "metadata": {
    "ExecuteTime": {
     "end_time": "2021-03-31T06:27:02.716730Z",
     "start_time": "2021-03-31T06:27:02.705735Z"
    }
   },
   "outputs": [
    {
     "data": {
      "text/plain": [
       "ObstacleInfo(obstacle_ID=237, obstacle_length=22.4, obstacle_width=1.9, obstacle_height=4.17, obstacle_PosX=29.0, obstacle_PosY=-203.0, obstacle_VelX=-59.61, obstacle_VelY=-33.0, obstacle_AccX=11.55, obstacle_AccY=-10.5, obstacle_VelXAbs=-2.9, obstacle_VelYAbs=25.0, obstacle_angle=-160.05, obstacle_center_angle=98.57, obstacle__ttc=4.0, obstacle_confidence=26, obstacle_age=11311, obstacle_valid=2, obstacle_replaced=0, obstacle_motion_category=6, obstacle_motion_status=0, obstacle_measuring_status=0, obstacle_class=2, vehicle_subtype=6, ped_subtype=1, ped_pos=3, ped_orientation=8, obstacle_lane_assignment=2, CIPV_flag=0, MCP_flag=1, obstacle_blinker_info=3, obstacle_brake_lights=0)"
      ]
     },
     "execution_count": 10,
     "metadata": {},
     "output_type": "execute_result"
    }
   ],
   "source": [
    "self = ObstacleInfo(**obstacle_simulate())\n",
    "self"
   ]
  },
  {
   "cell_type": "code",
   "execution_count": 11,
   "id": "hairy-input",
   "metadata": {
    "ExecuteTime": {
     "end_time": "2021-03-31T06:27:04.776816Z",
     "start_time": "2021-03-31T06:27:04.769820Z"
    }
   },
   "outputs": [
    {
     "data": {
      "text/plain": [
       "ObstacleInfo(obstacle_ID=217, obstacle_length=23.5, obstacle_width=5.14, obstacle_height=0.52, obstacle_PosX=79.0, obstacle_PosY=-59.0, obstacle_VelX=-23.48, obstacle_VelY=16.0, obstacle_AccX=9.04, obstacle_AccY=11.23, obstacle_VelXAbs=-10.69, obstacle_VelYAbs=-29.0, obstacle_angle=85.9, obstacle_center_angle=-23.68, obstacle__ttc=2.0, obstacle_confidence=69, obstacle_age=13711, obstacle_valid=2, obstacle_replaced=1, obstacle_motion_category=0, obstacle_motion_status=3, obstacle_measuring_status=2, obstacle_class=0, vehicle_subtype=1, ped_subtype=0, ped_pos=5, ped_orientation=8, obstacle_lane_assignment=1, CIPV_flag=1, MCP_flag=0, obstacle_blinker_info=1, obstacle_brake_lights=1)"
      ]
     },
     "execution_count": 11,
     "metadata": {},
     "output_type": "execute_result"
    }
   ],
   "source": [
    "self = ObstacleInfo(**obstacle_simulate())\n",
    "self"
   ]
  },
  {
   "cell_type": "code",
   "execution_count": null,
   "id": "inclusive-sword",
   "metadata": {},
   "outputs": [],
   "source": []
  }
 ],
 "metadata": {
  "kernelspec": {
   "display_name": "ui",
   "language": "python",
   "name": "ui"
  },
  "language_info": {
   "codemirror_mode": {
    "name": "ipython",
    "version": 3
   },
   "file_extension": ".py",
   "mimetype": "text/x-python",
   "name": "python",
   "nbconvert_exporter": "python",
   "pygments_lexer": "ipython3",
   "version": "3.9.2"
  },
  "toc": {
   "base_numbering": 1,
   "nav_menu": {},
   "number_sections": true,
   "sideBar": true,
   "skip_h1_title": false,
   "title_cell": "Table of Contents",
   "title_sidebar": "Contents",
   "toc_cell": false,
   "toc_position": {},
   "toc_section_display": true,
   "toc_window_display": false
  }
 },
 "nbformat": 4,
 "nbformat_minor": 5
}
