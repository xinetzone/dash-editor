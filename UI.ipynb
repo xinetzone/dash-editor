{
 "cells": [
  {
   "cell_type": "markdown",
   "id": "negative-college",
   "metadata": {},
   "source": [
    "载入库："
   ]
  },
  {
   "cell_type": "code",
   "execution_count": 1,
   "id": "occupied-apache",
   "metadata": {
    "ExecuteTime": {
     "end_time": "2021-04-08T00:06:39.297674Z",
     "start_time": "2021-04-08T00:06:36.514916Z"
    }
   },
   "outputs": [],
   "source": [
    "from dataclasses import dataclass, asdict\n",
    "import json\n",
    "\n",
    "import pandas as pd\n",
    "import numpy as np\n",
    "\n",
    "import plotly.express as px\n",
    "from jupyter_dash import JupyterDash as Dash\n",
    "import dash\n",
    "import dash_core_components as dcc\n",
    "import dash_html_components as html\n",
    "from dash.dependencies import Input, Output, State, MATCH, ALL\n",
    "\n",
    "from tools.obstacle.simulate import ObstacleInfo, obstacle_simulate"
   ]
  },
  {
   "cell_type": "code",
   "execution_count": 2,
   "id": "alien-pierre",
   "metadata": {
    "ExecuteTime": {
     "end_time": "2021-04-08T00:06:40.294229Z",
     "start_time": "2021-04-08T00:06:39.945386Z"
    }
   },
   "outputs": [],
   "source": [
    "app = Dash(__name__)"
   ]
  },
  {
   "cell_type": "code",
   "execution_count": 3,
   "id": "duplicate-passage",
   "metadata": {
    "ExecuteTime": {
     "end_time": "2021-04-08T00:06:41.277790Z",
     "start_time": "2021-04-08T00:06:41.258799Z"
    }
   },
   "outputs": [],
   "source": [
    "tabs_styles = {\n",
    "    'height': '44px'\n",
    "}\n",
    "tab_style = {\n",
    "    'borderBottom': '1px solid #d6d6d6',\n",
    "    'padding': '6px',\n",
    "    'fontWeight': 'bold'\n",
    "}\n",
    "\n",
    "tab_selected_style = {\n",
    "    'borderTop': '1px solid #d6d6d6',\n",
    "    'borderBottom': '1px solid #d6d6d6',\n",
    "    'backgroundColor': '#119DFF',\n",
    "    'color': 'white',\n",
    "    'padding': '6px'\n",
    "}\n",
    "\n",
    "app.layout = html.Div([\n",
    "    dcc.Tabs(id=\"tabs-styled-with-inline\", value='obstacle', children=[\n",
    "        dcc.Tab(label='Obstacle', value='obstacle', style=tab_style, selected_style=tab_selected_style),\n",
    "        dcc.Tab(label='Radar', value='radar', style=tab_style, selected_style=tab_selected_style),\n",
    "        dcc.Tab(label='Traffic Lane', value='traffic-lane', style=tab_style, selected_style=tab_selected_style)\n",
    "    ], style=tabs_styles),\n",
    "    html.Div(id='tabs-content-inline')\n",
    "])\n",
    "\n",
    "@app.callback(Output('tabs-content-inline', 'children'),\n",
    "              Input('tabs-styled-with-inline', 'value'))\n",
    "def render_content(tab):\n",
    "    if tab == 'obstacle':\n",
    "        return html.Div([\n",
    "            html.H3('障碍物'),\n",
    "            *[html.P([str(ObstacleInfo(**obstacle_simulate()))]) for _ in range(50)]\n",
    "        ])\n",
    "    elif tab == 'radar':\n",
    "        return html.Div([\n",
    "            html.H3('雷达')\n",
    "        ])\n",
    "    elif tab == 'traffic-lane':\n",
    "        return html.Div([\n",
    "            html.H3('车道线')\n",
    "        ])"
   ]
  },
  {
   "cell_type": "code",
   "execution_count": 4,
   "id": "electric-snake",
   "metadata": {
    "ExecuteTime": {
     "end_time": "2021-04-08T00:06:45.502904Z",
     "start_time": "2021-04-08T00:06:42.555221Z"
    }
   },
   "outputs": [
    {
     "name": "stdout",
     "output_type": "stream",
     "text": [
      "Dash app running on http://0.0.0.0:8077/\n"
     ]
    }
   ],
   "source": [
    "app.run_server('external', host='0.0.0.0', port=8077, debug=True)"
   ]
  },
  {
   "cell_type": "code",
   "execution_count": null,
   "id": "persistent-scheduling",
   "metadata": {
    "ExecuteTime": {
     "end_time": "2021-03-29T06:18:46.911535Z",
     "start_time": "2021-03-29T06:18:46.882548Z"
    }
   },
   "outputs": [],
   "source": [
    "app.layout = html.Div([\n",
    "    # The memory store reverts to the default on every page refresh\n",
    "    dcc.Store(id='memory'),\n",
    "    # The local store will take the initial data\n",
    "    # only the first time the page is loaded\n",
    "    # and keep it until it is cleared.\n",
    "    dcc.Store(id='local', storage_type='local'),\n",
    "    # Same as the local store but will lose the data\n",
    "    # when the browser/tab closes.\n",
    "    dcc.Store(id='session', storage_type='session'),\n",
    "    html.Table([\n",
    "        html.Thead([\n",
    "            html.Tr(html.Th('Click to store in:', colSpan=\"3\")),\n",
    "            html.Tr([\n",
    "                html.Th(html.Button('memory', id='memory-button')),\n",
    "                html.Th(html.Button('localStorage', id='local-button')),\n",
    "                html.Th(html.Button('sessionStorage', id='session-button'))\n",
    "            ]),\n",
    "            html.Tr([\n",
    "                html.Th('Memory clicks'),\n",
    "                html.Th('Local clicks'),\n",
    "                html.Th('Session clicks')\n",
    "            ])\n",
    "        ]),\n",
    "        html.Tbody([\n",
    "            html.Tr([\n",
    "                html.Td(0, id='memory-clicks'),\n",
    "                html.Td(0, id='local-clicks'),\n",
    "                html.Td(0, id='session-clicks')\n",
    "            ])\n",
    "        ])\n",
    "    ])\n",
    "])\n",
    "\n",
    "# Create two callback for every store.\n",
    "for store in ('memory', 'local', 'session'):\n",
    "\n",
    "    # add a click to the appropriate store.\n",
    "    @app.callback(Output(store, 'data'),\n",
    "                  Input('{}-button'.format(store), 'n_clicks'),\n",
    "                  State(store, 'data'))\n",
    "    def on_click(n_clicks, data):\n",
    "        if n_clicks is None:\n",
    "            # prevent the None callbacks is important with the store component.\n",
    "            # you don't want to update the store for nothing.\n",
    "            raise PreventUpdate\n",
    "\n",
    "        # Give a default data dict with 0 clicks if there's no data.\n",
    "        data = data or {'clicks': 0}\n",
    "\n",
    "        data['clicks'] = data['clicks'] + 1\n",
    "        return data\n",
    "\n",
    "    # output the stored clicks in the table cell.\n",
    "    @app.callback(Output('{}-clicks'.format(store), 'children'),\n",
    "                  # Since we use the data prop in an output,\n",
    "                  # we cannot get the initial data on load with the data prop.\n",
    "                  # To counter this, you can use the modified_timestamp\n",
    "                  # as Input and the data as State.\n",
    "                  # This limitation is due to the initial None callbacks\n",
    "                  # https://github.com/plotly/dash-renderer/pull/81\n",
    "                  Input(store, 'modified_timestamp'),\n",
    "                  State(store, 'data'))\n",
    "    def on_data(ts, data):\n",
    "        if ts is None:\n",
    "            raise PreventUpdate\n",
    "\n",
    "        data = data or {}\n",
    "\n",
    "        return data.get('clicks', 0)"
   ]
  },
  {
   "cell_type": "code",
   "execution_count": null,
   "id": "english-mongolia",
   "metadata": {
    "ExecuteTime": {
     "end_time": "2021-03-29T06:33:49.735629Z",
     "start_time": "2021-03-29T06:33:30.818167Z"
    },
    "scrolled": true
   },
   "outputs": [],
   "source": [
    "%matplotlib inline\n",
    "from matplotlib import pyplot as plt\n",
    "\n",
    "ax = []                    # 定义一个 x 轴的空列表用来接收动态的数据\n",
    "ay = []                    # 定义一个 y 轴的空列表用来接收动态的数据\n",
    "plt.ion()                  # 开启一个画图的窗口\n",
    "for i in range(100):       # 遍历0-99的值\n",
    "    ax.append(i)           # 添加 i 到 x 轴的数据中\n",
    "    ay.append(i**2)        # 添加 i 的平方到 y 轴的数据中\n",
    "    plt.clf()              # 清除之前画的图\n",
    "    plt.plot(ax, ay)        # 画出当前 ax 列表和 ay 列表中的值的图形\n",
    "    plt.pause(0.1)         # 暂停一秒\n",
    "    plt.ioff()             # 关闭画图的窗口\n",
    "plt.show()"
   ]
  },
  {
   "cell_type": "code",
   "execution_count": null,
   "id": "satisfied-speech",
   "metadata": {
    "ExecuteTime": {
     "end_time": "2021-03-29T07:44:31.182521Z",
     "start_time": "2021-03-29T07:44:31.162530Z"
    }
   },
   "outputs": [],
   "source": [
    "import toml"
   ]
  },
  {
   "cell_type": "code",
   "execution_count": null,
   "id": "extreme-caribbean",
   "metadata": {
    "ExecuteTime": {
     "end_time": "2021-03-29T07:44:46.261822Z",
     "start_time": "2021-03-29T07:44:45.633103Z"
    }
   },
   "outputs": [],
   "source": [
    "c = toml.load('c.toml')\n",
    "c"
   ]
  },
  {
   "cell_type": "code",
   "execution_count": null,
   "id": "cloudy-laser",
   "metadata": {
    "ExecuteTime": {
     "end_time": "2021-04-01T07:41:18.804811Z",
     "start_time": "2021-04-01T07:41:18.785820Z"
    }
   },
   "outputs": [],
   "source": [
    "import threading\n",
    "import time\n",
    "from queue import Queue\n",
    "\n",
    "\n",
    "def job(l, q):\n",
    "    for i in range(len(l)):\n",
    "        l[i] = l[i]**2\n",
    "    q.put(l)  # 多线程调用的函数不能用return返回值\n",
    "\n",
    "\n",
    "def multithreading():\n",
    "    q = Queue()\n",
    "    threads = []\n",
    "    data = [[1, 2, 3], [3, 4, 5], [4, 4, 4], [5, 5, 5]]\n",
    "    for i in range(4):\n",
    "        t = threading.Thread(target=job, args=(data[i], q))\n",
    "        t.start()\n",
    "        threads.append(t)\n",
    "    for thread in threads:\n",
    "        thread.join()\n",
    "    results = []\n",
    "    for _ in range(4):\n",
    "        results.append(q.get())\n",
    "    print(results)\n",
    "\n",
    "\n",
    "if __name__ == '__main__':\n",
    "    multithreading()"
   ]
  },
  {
   "cell_type": "code",
   "execution_count": null,
   "id": "velvet-thumb",
   "metadata": {
    "ExecuteTime": {
     "end_time": "2021-04-01T08:19:06.458083Z",
     "start_time": "2021-04-01T08:19:06.439091Z"
    }
   },
   "outputs": [],
   "source": [
    "import multiprocessing as mp\n",
    "import threading as td"
   ]
  },
  {
   "cell_type": "code",
   "execution_count": null,
   "id": "unknown-alpha",
   "metadata": {
    "ExecuteTime": {
     "end_time": "2021-04-01T08:23:34.481278Z",
     "start_time": "2021-04-01T08:23:34.469284Z"
    }
   },
   "outputs": [],
   "source": [
    "def job(a, b):\n",
    "    print('ccccc')"
   ]
  },
  {
   "cell_type": "code",
   "execution_count": null,
   "id": "czech-usage",
   "metadata": {
    "ExecuteTime": {
     "end_time": "2021-04-01T08:23:35.029034Z",
     "start_time": "2021-04-01T08:23:34.842118Z"
    }
   },
   "outputs": [],
   "source": [
    "if __name__ == '__main__':\n",
    "    p1 = mp.Process(target=job, args=(1, 2))\n",
    "    p1.start()\n",
    "    p1.join()import multiprocessing as mp\n",
    "\n",
    "def job(a,d):\n",
    "    print('aaaaa')\n",
    "\n",
    "if __name__=='__main__':\n",
    "    p1 = mp.Process(target=job,args=(1,2))\n",
    "    p1.start()\n",
    "    p1.join()"
   ]
  },
  {
   "cell_type": "code",
   "execution_count": null,
   "id": "mineral-listing",
   "metadata": {
    "ExecuteTime": {
     "end_time": "2021-04-01T08:49:08.615436Z",
     "start_time": "2021-04-01T08:49:08.517480Z"
    }
   },
   "outputs": [],
   "source": [
    "mp.Pipe?"
   ]
  },
  {
   "cell_type": "code",
   "execution_count": null,
   "id": "reverse-kenya",
   "metadata": {},
   "outputs": [],
   "source": []
  }
 ],
 "metadata": {
  "kernelspec": {
   "display_name": "ui",
   "language": "python",
   "name": "ui"
  },
  "language_info": {
   "codemirror_mode": {
    "name": "ipython",
    "version": 3
   },
   "file_extension": ".py",
   "mimetype": "text/x-python",
   "name": "python",
   "nbconvert_exporter": "python",
   "pygments_lexer": "ipython3",
   "version": "3.9.2"
  },
  "toc": {
   "base_numbering": 1,
   "nav_menu": {},
   "number_sections": true,
   "sideBar": true,
   "skip_h1_title": false,
   "title_cell": "Table of Contents",
   "title_sidebar": "Contents",
   "toc_cell": false,
   "toc_position": {},
   "toc_section_display": true,
   "toc_window_display": false
  }
 },
 "nbformat": 4,
 "nbformat_minor": 5
}
